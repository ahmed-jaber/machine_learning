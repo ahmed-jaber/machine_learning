{
 "cells": [
  {
   "cell_type": "code",
   "execution_count": 1,
   "metadata": {},
   "outputs": [],
   "source": [
    "import pandas as pd\n",
    "df=pd.read_csv('Iris.csv')\n"
   ]
  },
  {
   "cell_type": "code",
   "execution_count": 2,
   "metadata": {},
   "outputs": [],
   "source": [
    "df['Species'].replace('Iris-setosa', 0, inplace=True)\n",
    "df['Species'].replace('Iris-virginica', 1, inplace=True)\n",
    "df['Species'].replace('Iris-versicolor', 2, inplace=True)\n",
    "\n",
    "X = df[['SepalLengthCm','SepalWidthCm','PetalLengthCm','PetalWidthCm']]\n",
    "\n",
    "y = df['Species']"
   ]
  },
  {
   "cell_type": "code",
   "execution_count": 5,
   "metadata": {},
   "outputs": [],
   "source": [
    "from sklearn.model_selection import cross_val_score\n",
    "\n",
    "def cv_comparison_classification(models,X,y,cv):\n",
    "    cv_df=pd.DataFrame()\n",
    "    for model in models:\n",
    "        acc=cross_val_score(model,X,y,scoring='accuracy',cv=cv)\n",
    "        acc_avg=round(acc.mean(),3)\n",
    "        cv_df[str(model)]=[acc_avg]\n",
    "        cv_df.index=['Accuracy']\n",
    "        \n",
    "    return cv_df"
   ]
  },
  {
   "cell_type": "code",
   "execution_count": 4,
   "metadata": {},
   "outputs": [
    {
     "name": "stdout",
     "output_type": "stream",
     "text": [
      "          LogisticRegression(max_iter=1000)  DecisionTreeClassifier()  SVC()  \\\n",
      "Accuracy                              0.973                      0.96  0.967   \n",
      "\n",
      "          GaussianNB()  KNeighborsClassifier()  \n",
      "Accuracy         0.953                   0.973  \n"
     ]
    }
   ],
   "source": [
    "from sklearn.linear_model import LogisticRegression\n",
    "from sklearn.tree import DecisionTreeClassifier\n",
    "from sklearn.svm import SVC\n",
    "from sklearn.naive_bayes import GaussianNB\n",
    "from sklearn.neighbors import KNeighborsClassifier\n",
    "\n",
    "mlr_lreg=LogisticRegression(max_iter=1000)\n",
    "mlr_d=DecisionTreeClassifier()\n",
    "mlr_svc=SVC(kernel='rbf')\n",
    "mlr_g=GaussianNB()\n",
    "mlr_k=KNeighborsClassifier()\n",
    "\n",
    "models=[mlr_lreg,mlr_d,mlr_svc,mlr_g,mlr_k]\n",
    "\n",
    "comp_df=cv_comparison_classification(models=models,X=X,y=y,cv=5)\n",
    "print(comp_df)"
   ]
  }
 ],
 "metadata": {
  "kernelspec": {
   "display_name": "base",
   "language": "python",
   "name": "python3"
  },
  "language_info": {
   "codemirror_mode": {
    "name": "ipython",
    "version": 3
   },
   "file_extension": ".py",
   "mimetype": "text/x-python",
   "name": "python",
   "nbconvert_exporter": "python",
   "pygments_lexer": "ipython3",
   "version": "3.10.9"
  },
  "orig_nbformat": 4
 },
 "nbformat": 4,
 "nbformat_minor": 2
}
