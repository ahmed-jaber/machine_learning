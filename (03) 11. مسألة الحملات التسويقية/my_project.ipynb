{
 "cells": [
  {
   "cell_type": "code",
   "execution_count": 1,
   "metadata": {},
   "outputs": [
    {
     "name": "stdout",
     "output_type": "stream",
     "text": [
      "<class 'pandas.core.frame.DataFrame'>\n",
      "RangeIndex: 100 entries, 0 to 99\n",
      "Data columns (total 8 columns):\n",
      " #   Column      Non-Null Count  Dtype \n",
      "---  ------      --------------  ----- \n",
      " 0   job         100 non-null    object\n",
      " 1   marital     100 non-null    object\n",
      " 2   education   100 non-null    object\n",
      " 3   housing     100 non-null    object\n",
      " 4   loan        100 non-null    object\n",
      " 5   contact     100 non-null    object\n",
      " 6   poutcome    100 non-null    object\n",
      " 7   subscribed  100 non-null    object\n",
      "dtypes: object(8)\n",
      "memory usage: 6.4+ KB\n"
     ]
    }
   ],
   "source": [
    "import pandas as pd\n",
    "df=pd.read_csv('bank.csv')\n",
    "df.info()"
   ]
  },
  {
   "cell_type": "code",
   "execution_count": 2,
   "metadata": {},
   "outputs": [
    {
     "data": {
      "text/html": [
       "<div>\n",
       "<style scoped>\n",
       "    .dataframe tbody tr th:only-of-type {\n",
       "        vertical-align: middle;\n",
       "    }\n",
       "\n",
       "    .dataframe tbody tr th {\n",
       "        vertical-align: top;\n",
       "    }\n",
       "\n",
       "    .dataframe thead th {\n",
       "        text-align: right;\n",
       "    }\n",
       "</style>\n",
       "<table border=\"1\" class=\"dataframe\">\n",
       "  <thead>\n",
       "    <tr style=\"text-align: right;\">\n",
       "      <th></th>\n",
       "      <th>job</th>\n",
       "      <th>marital</th>\n",
       "      <th>education</th>\n",
       "      <th>housing</th>\n",
       "      <th>loan</th>\n",
       "      <th>contact</th>\n",
       "      <th>poutcome</th>\n",
       "      <th>subscribed</th>\n",
       "      <th>job_num</th>\n",
       "      <th>marital_num</th>\n",
       "      <th>education_num</th>\n",
       "      <th>housing_num</th>\n",
       "      <th>loan_num</th>\n",
       "      <th>contact_num</th>\n",
       "      <th>poutcome_num</th>\n",
       "      <th>subscribed_num</th>\n",
       "    </tr>\n",
       "  </thead>\n",
       "  <tbody>\n",
       "    <tr>\n",
       "      <th>0</th>\n",
       "      <td>blue-collar</td>\n",
       "      <td>married</td>\n",
       "      <td>secondary</td>\n",
       "      <td>no</td>\n",
       "      <td>no</td>\n",
       "      <td>unknown</td>\n",
       "      <td>unknown</td>\n",
       "      <td>no</td>\n",
       "      <td>1</td>\n",
       "      <td>1</td>\n",
       "      <td>1</td>\n",
       "      <td>0</td>\n",
       "      <td>0</td>\n",
       "      <td>2</td>\n",
       "      <td>3</td>\n",
       "      <td>0</td>\n",
       "    </tr>\n",
       "    <tr>\n",
       "      <th>1</th>\n",
       "      <td>blue-collar</td>\n",
       "      <td>married</td>\n",
       "      <td>secondary</td>\n",
       "      <td>no</td>\n",
       "      <td>no</td>\n",
       "      <td>cellular</td>\n",
       "      <td>unknown</td>\n",
       "      <td>no</td>\n",
       "      <td>1</td>\n",
       "      <td>1</td>\n",
       "      <td>1</td>\n",
       "      <td>0</td>\n",
       "      <td>0</td>\n",
       "      <td>0</td>\n",
       "      <td>3</td>\n",
       "      <td>0</td>\n",
       "    </tr>\n",
       "    <tr>\n",
       "      <th>2</th>\n",
       "      <td>blue-collar</td>\n",
       "      <td>married</td>\n",
       "      <td>unknown</td>\n",
       "      <td>yes</td>\n",
       "      <td>no</td>\n",
       "      <td>unknown</td>\n",
       "      <td>unknown</td>\n",
       "      <td>no</td>\n",
       "      <td>1</td>\n",
       "      <td>1</td>\n",
       "      <td>3</td>\n",
       "      <td>1</td>\n",
       "      <td>0</td>\n",
       "      <td>2</td>\n",
       "      <td>3</td>\n",
       "      <td>0</td>\n",
       "    </tr>\n",
       "    <tr>\n",
       "      <th>3</th>\n",
       "      <td>self-employed</td>\n",
       "      <td>married</td>\n",
       "      <td>tertiary</td>\n",
       "      <td>no</td>\n",
       "      <td>no</td>\n",
       "      <td>cellular</td>\n",
       "      <td>unknown</td>\n",
       "      <td>no</td>\n",
       "      <td>6</td>\n",
       "      <td>1</td>\n",
       "      <td>2</td>\n",
       "      <td>0</td>\n",
       "      <td>0</td>\n",
       "      <td>0</td>\n",
       "      <td>3</td>\n",
       "      <td>0</td>\n",
       "    </tr>\n",
       "    <tr>\n",
       "      <th>4</th>\n",
       "      <td>technician</td>\n",
       "      <td>married</td>\n",
       "      <td>secondary</td>\n",
       "      <td>no</td>\n",
       "      <td>no</td>\n",
       "      <td>cellular</td>\n",
       "      <td>unknown</td>\n",
       "      <td>no</td>\n",
       "      <td>9</td>\n",
       "      <td>1</td>\n",
       "      <td>1</td>\n",
       "      <td>0</td>\n",
       "      <td>0</td>\n",
       "      <td>0</td>\n",
       "      <td>3</td>\n",
       "      <td>0</td>\n",
       "    </tr>\n",
       "    <tr>\n",
       "      <th>...</th>\n",
       "      <td>...</td>\n",
       "      <td>...</td>\n",
       "      <td>...</td>\n",
       "      <td>...</td>\n",
       "      <td>...</td>\n",
       "      <td>...</td>\n",
       "      <td>...</td>\n",
       "      <td>...</td>\n",
       "      <td>...</td>\n",
       "      <td>...</td>\n",
       "      <td>...</td>\n",
       "      <td>...</td>\n",
       "      <td>...</td>\n",
       "      <td>...</td>\n",
       "      <td>...</td>\n",
       "      <td>...</td>\n",
       "    </tr>\n",
       "    <tr>\n",
       "      <th>95</th>\n",
       "      <td>blue-collar</td>\n",
       "      <td>single</td>\n",
       "      <td>secondary</td>\n",
       "      <td>yes</td>\n",
       "      <td>no</td>\n",
       "      <td>cellular</td>\n",
       "      <td>unknown</td>\n",
       "      <td>yes</td>\n",
       "      <td>1</td>\n",
       "      <td>2</td>\n",
       "      <td>1</td>\n",
       "      <td>1</td>\n",
       "      <td>0</td>\n",
       "      <td>0</td>\n",
       "      <td>3</td>\n",
       "      <td>1</td>\n",
       "    </tr>\n",
       "    <tr>\n",
       "      <th>96</th>\n",
       "      <td>blue-collar</td>\n",
       "      <td>married</td>\n",
       "      <td>primary</td>\n",
       "      <td>yes</td>\n",
       "      <td>no</td>\n",
       "      <td>cellular</td>\n",
       "      <td>failure</td>\n",
       "      <td>no</td>\n",
       "      <td>1</td>\n",
       "      <td>1</td>\n",
       "      <td>0</td>\n",
       "      <td>1</td>\n",
       "      <td>0</td>\n",
       "      <td>0</td>\n",
       "      <td>0</td>\n",
       "      <td>0</td>\n",
       "    </tr>\n",
       "    <tr>\n",
       "      <th>97</th>\n",
       "      <td>admin.</td>\n",
       "      <td>married</td>\n",
       "      <td>secondary</td>\n",
       "      <td>yes</td>\n",
       "      <td>yes</td>\n",
       "      <td>cellular</td>\n",
       "      <td>unknown</td>\n",
       "      <td>no</td>\n",
       "      <td>0</td>\n",
       "      <td>1</td>\n",
       "      <td>1</td>\n",
       "      <td>1</td>\n",
       "      <td>1</td>\n",
       "      <td>0</td>\n",
       "      <td>3</td>\n",
       "      <td>0</td>\n",
       "    </tr>\n",
       "    <tr>\n",
       "      <th>98</th>\n",
       "      <td>blue-collar</td>\n",
       "      <td>divorced</td>\n",
       "      <td>primary</td>\n",
       "      <td>yes</td>\n",
       "      <td>no</td>\n",
       "      <td>cellular</td>\n",
       "      <td>unknown</td>\n",
       "      <td>no</td>\n",
       "      <td>1</td>\n",
       "      <td>0</td>\n",
       "      <td>0</td>\n",
       "      <td>1</td>\n",
       "      <td>0</td>\n",
       "      <td>0</td>\n",
       "      <td>3</td>\n",
       "      <td>0</td>\n",
       "    </tr>\n",
       "    <tr>\n",
       "      <th>99</th>\n",
       "      <td>admin.</td>\n",
       "      <td>married</td>\n",
       "      <td>primary</td>\n",
       "      <td>yes</td>\n",
       "      <td>no</td>\n",
       "      <td>cellular</td>\n",
       "      <td>unknown</td>\n",
       "      <td>no</td>\n",
       "      <td>0</td>\n",
       "      <td>1</td>\n",
       "      <td>0</td>\n",
       "      <td>1</td>\n",
       "      <td>0</td>\n",
       "      <td>0</td>\n",
       "      <td>3</td>\n",
       "      <td>0</td>\n",
       "    </tr>\n",
       "  </tbody>\n",
       "</table>\n",
       "<p>100 rows × 16 columns</p>\n",
       "</div>"
      ],
      "text/plain": [
       "              job   marital  education housing loan   contact poutcome  \\\n",
       "0     blue-collar   married  secondary      no   no   unknown  unknown   \n",
       "1     blue-collar   married  secondary      no   no  cellular  unknown   \n",
       "2     blue-collar   married    unknown     yes   no   unknown  unknown   \n",
       "3   self-employed   married   tertiary      no   no  cellular  unknown   \n",
       "4      technician   married  secondary      no   no  cellular  unknown   \n",
       "..            ...       ...        ...     ...  ...       ...      ...   \n",
       "95    blue-collar    single  secondary     yes   no  cellular  unknown   \n",
       "96    blue-collar   married    primary     yes   no  cellular  failure   \n",
       "97         admin.   married  secondary     yes  yes  cellular  unknown   \n",
       "98    blue-collar  divorced    primary     yes   no  cellular  unknown   \n",
       "99         admin.   married    primary     yes   no  cellular  unknown   \n",
       "\n",
       "   subscribed  job_num  marital_num  education_num  housing_num  loan_num  \\\n",
       "0          no        1            1              1            0         0   \n",
       "1          no        1            1              1            0         0   \n",
       "2          no        1            1              3            1         0   \n",
       "3          no        6            1              2            0         0   \n",
       "4          no        9            1              1            0         0   \n",
       "..        ...      ...          ...            ...          ...       ...   \n",
       "95        yes        1            2              1            1         0   \n",
       "96         no        1            1              0            1         0   \n",
       "97         no        0            1              1            1         1   \n",
       "98         no        1            0              0            1         0   \n",
       "99         no        0            1              0            1         0   \n",
       "\n",
       "    contact_num  poutcome_num  subscribed_num  \n",
       "0             2             3               0  \n",
       "1             0             3               0  \n",
       "2             2             3               0  \n",
       "3             0             3               0  \n",
       "4             0             3               0  \n",
       "..          ...           ...             ...  \n",
       "95            0             3               1  \n",
       "96            0             0               0  \n",
       "97            0             3               0  \n",
       "98            0             3               0  \n",
       "99            0             3               0  \n",
       "\n",
       "[100 rows x 16 columns]"
      ]
     },
     "execution_count": 2,
     "metadata": {},
     "output_type": "execute_result"
    }
   ],
   "source": [
    "from sklearn.preprocessing import LabelEncoder\n",
    "\n",
    "le_job=LabelEncoder()\n",
    "le_marital=LabelEncoder()\n",
    "le_education=LabelEncoder()\n",
    "le_contact=LabelEncoder()\n",
    "le_poutcome=LabelEncoder()\n",
    "le_yes_no=LabelEncoder()\n",
    "\n",
    "le_yes_no.fit(['yes','no'])\n",
    "\n",
    "df['job_num']=le_job.fit_transform(df['job'])\n",
    "df['marital_num']=le_marital.fit_transform(df['marital'])\n",
    "df['education_num']=le_education.fit_transform(df['education'])\n",
    "\n",
    "df['housing_num']=le_yes_no.transform(df['housing'])\n",
    "df['loan_num']=le_yes_no.transform(df['loan'])\n",
    "\n",
    "df['contact_num']=le_contact.fit_transform(df['contact'])\n",
    "df['poutcome_num']=le_poutcome.fit_transform(df['poutcome'])\n",
    "\n",
    "df['subscribed_num']=le_yes_no.transform(df['subscribed'])\n",
    "\n",
    "df\n"
   ]
  },
  {
   "cell_type": "code",
   "execution_count": 3,
   "metadata": {},
   "outputs": [
    {
     "name": "stdout",
     "output_type": "stream",
     "text": [
      "job_num           0.199343\n",
      "marital_num       0.208831\n",
      "education_num     0.111860\n",
      "housing_num      -0.117185\n",
      "loan_num         -0.141846\n",
      "contact_num      -0.189402\n",
      "poutcome_num     -0.258902\n",
      "subscribed_num    1.000000\n",
      "Name: subscribed_num, dtype: float64\n"
     ]
    },
    {
     "name": "stderr",
     "output_type": "stream",
     "text": [
      "C:\\Users\\asus\\AppData\\Local\\Temp\\ipykernel_19068\\3852946170.py:1: FutureWarning: The default value of numeric_only in DataFrame.corr is deprecated. In a future version, it will default to False. Select only valid columns or specify the value of numeric_only to silence this warning.\n",
      "  dfCorr=df.corr(method='pearson')\n"
     ]
    }
   ],
   "source": [
    "dfCorr=df.corr(method='pearson')\n",
    "print(dfCorr['subscribed_num'])"
   ]
  },
  {
   "cell_type": "code",
   "execution_count": 4,
   "metadata": {},
   "outputs": [
    {
     "data": {
      "image/png": "[encoded data removed]",
      "text/plain": [
       "<Figure size 1500x1500 with 2 Axes>"
      ]
     },
     "metadata": {},
     "output_type": "display_data"
    }
   ],
   "source": [
    "import matplotlib.pyplot as plt\n",
    "\n",
    "fig=plt.figure(figsize=(15,15))\n",
    "ax=fig.add_subplot(1,1,1)\n",
    "cax=ax.matshow(dfCorr,vmin=-1,vmax=1)\n",
    "fig.colorbar(cax)\n",
    "\n",
    "ticks=[0,1,2,3,4,5,6,7]\n",
    "\n",
    "ax.set_xticks(ticks)\n",
    "ax.set_yticks(ticks)\n",
    "\n",
    "ax.set_xticklabels(['job_num','marital_num','education_num','housing_num','loan_num','contact_num','poutcome_num','subscribed_num'])\n",
    "ax.set_yticklabels(['job_num','marital_num','education_num','housing_num','loan_num','contact_num','poutcome_num','subscribed_num'])\n",
    "\n",
    "plt.show()"
   ]
  },
  {
   "cell_type": "code",
   "execution_count": 5,
   "metadata": {},
   "outputs": [],
   "source": [
    "X=df[['job_num','marital_num','education_num','housing_num','loan_num','contact_num','poutcome_num']]\n",
    "y=df['subscribed_num']"
   ]
  },
  {
   "cell_type": "code",
   "execution_count": 6,
   "metadata": {},
   "outputs": [
    {
     "data": {
      "image/png": "[encoded data removed]",
      "text/plain": [
       "<Figure size 640x480 with 1 Axes>"
      ]
     },
     "metadata": {},
     "output_type": "display_data"
    }
   ],
   "source": [
    "\n",
    "count=y.value_counts()\n",
    "plt.title('Original classes distribution')\n",
    "\n",
    "plt.pie(count,labels=count.index.to_list(),autopct='%1.1f%%')\n",
    "plt.show()"
   ]
  },
  {
   "cell_type": "code",
   "execution_count": 7,
   "metadata": {},
   "outputs": [
    {
     "name": "stdout",
     "output_type": "stream",
     "text": [
      "100\n"
     ]
    }
   ],
   "source": [
    "from sklearn.utils import resample\n",
    "print(len(X))\n",
    "df_0=df[df['subscribed_num']==0]\n",
    "df_1=df[df['subscribed_num']==1]\n",
    "\n",
    "df_1_resampled=resample(df_1,n_samples=df_0['subscribed_num'].count())\n",
    "\n",
    "df_resampled=pd.concat([df_0,df_1_resampled])\n"
   ]
  },
  {
   "cell_type": "code",
   "execution_count": 8,
   "metadata": {},
   "outputs": [
    {
     "name": "stdout",
     "output_type": "stream",
     "text": [
      "178\n"
     ]
    }
   ],
   "source": [
    "X=df_resampled[['job_num','marital_num','education_num','housing_num','loan_num','contact_num','poutcome_num']]\n",
    "y=df_resampled['subscribed_num']\n",
    "print(len(X))"
   ]
  },
  {
   "cell_type": "code",
   "execution_count": 9,
   "metadata": {},
   "outputs": [
    {
     "data": {
      "image/png": "[encoded data removed]",
      "text/plain": [
       "<Figure size 640x480 with 1 Axes>"
      ]
     },
     "metadata": {},
     "output_type": "display_data"
    }
   ],
   "source": [
    "count=y.value_counts()\n",
    "plt.title('Original classes distribution')\n",
    "\n",
    "plt.pie(count,labels=count.index.to_list(),autopct='%1.1f%%')\n",
    "plt.show()"
   ]
  },
  {
   "cell_type": "code",
   "execution_count": 10,
   "metadata": {},
   "outputs": [],
   "source": [
    "from sklearn.model_selection import train_test_split\n",
    "\n",
    "X_train, X_test, y_train, y_test = train_test_split(X,y,test_size=0.2)"
   ]
  },
  {
   "cell_type": "code",
   "execution_count": 11,
   "metadata": {},
   "outputs": [],
   "source": [
    "from sklearn.naive_bayes import CategoricalNB\n",
    "\n",
    "model=CategoricalNB()\n",
    "model.fit(X_train,y_train)\n",
    "\n",
    "y_pred=model.predict(X_test)"
   ]
  },
  {
   "cell_type": "code",
   "execution_count": 12,
   "metadata": {},
   "outputs": [
    {
     "name": "stdout",
     "output_type": "stream",
     "text": [
      "Accuracy 0.81\n",
      "Precision 0.82\n",
      "Recall_score 0.78\n",
      "F1 0.8\n"
     ]
    }
   ],
   "source": [
    "from sklearn.metrics import accuracy_score, precision_score, recall_score, f1_score\n",
    "\n",
    "print('Accuracy',(accuracy_score(y_test,y_pred)).round(2))\n",
    "print('Precision',(precision_score(y_test,y_pred)).round(2))\n",
    "print('Recall_score',(recall_score(y_test,y_pred)).round(2))\n",
    "print('F1',(f1_score(y_test,y_pred)).round(2))"
   ]
  },
  {
   "cell_type": "code",
   "execution_count": 18,
   "metadata": {},
   "outputs": [
    {
     "name": "stdout",
     "output_type": "stream",
     "text": [
      "[[15  3]\n",
      " [ 4 14]]\n"
     ]
    },
    {
     "data": {
      "text/plain": [
       "<AxesSubplot: >"
      ]
     },
     "execution_count": 18,
     "metadata": {},
     "output_type": "execute_result"
    },
    {
     "data": {
      "image/png": "[encoded data removed]",
      "text/plain": [
       "<Figure size 640x480 with 2 Axes>"
      ]
     },
     "metadata": {},
     "output_type": "display_data"
    }
   ],
   "source": [
    "from sklearn.metrics import confusion_matrix\n",
    "\n",
    "c_m=confusion_matrix(y_pred=y_pred,y_true=y_test)\n",
    "print(c_m)\n",
    "import seaborn as sns\n",
    "\n",
    "sns.heatmap(c_m,annot=True)"
   ]
  },
  {
   "cell_type": "code",
   "execution_count": 25,
   "metadata": {},
   "outputs": [
    {
     "name": "stdout",
     "output_type": "stream",
     "text": [
      "['yes']\n"
     ]
    }
   ],
   "source": [
    "newExample = ['student','married','primary','no','yes','telephone','failure']\n",
    "\n",
    "job=le_job.transform([newExample[0]])[0]\n",
    "marital=le_marital.transform([newExample[1]])[0]\n",
    "education=le_education.transform([newExample[2]])[0]\n",
    "housing=le_yes_no.transform([newExample[3]])[0]\n",
    "loan=le_yes_no.transform([newExample[4]])[0]\n",
    "contact=le_contact.transform([newExample[5]])[0]\n",
    "poutcome=le_poutcome.transform([newExample[6]])[0]\n",
    "\n",
    "ex_num=[[job,marital,education,housing,loan,contact,poutcome]]\n",
    "ex_num_info=pd.DataFrame(ex_num,columns=['job_num','marital_num','education_num','housing_num','loan_num','contact_num','poutcome_num'])\n",
    "\n",
    "print(le_yes_no.inverse_transform(model.predict(ex_num_info)))\n"
   ]
  }
 ],
 "metadata": {
  "kernelspec": {
   "display_name": "base",
   "language": "python",
   "name": "python3"
  },
  "language_info": {
   "codemirror_mode": {
    "name": "ipython",
    "version": 3
   },
   "file_extension": ".py",
   "mimetype": "text/x-python",
   "name": "python",
   "nbconvert_exporter": "python",
   "pygments_lexer": "ipython3",
   "version": "3.10.9"
  },
  "orig_nbformat": 4
 },
 "nbformat": 4,
 "nbformat_minor": 2
}
