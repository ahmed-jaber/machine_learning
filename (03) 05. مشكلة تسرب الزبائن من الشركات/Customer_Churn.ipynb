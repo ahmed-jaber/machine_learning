{
 "cells": [
  {
   "cell_type": "code",
   "execution_count": 1,
   "id": "776ca070",
   "metadata": {},
   "outputs": [
    {
     "data": {
      "text/plain": [
       "LogisticRegression()"
      ]
     },
     "execution_count": 1,
     "metadata": {},
     "output_type": "execute_result"
    }
   ],
   "source": [
    "import pandas as pd\n",
    "\n",
    "df = pd.read_csv('churn.csv')\n",
    "\n",
    "X = df [ ['Age', 'Married', 'Cust_years', 'Churned_contacts'] ]\n",
    "\n",
    "y = df['Churned']\n",
    "\n",
    "from sklearn.model_selection import train_test_split\n",
    "\n",
    "X_train, X_test, y_train, y_test = train_test_split(X, y, test_size=0.2)\n",
    "\n",
    "from sklearn.linear_model import LogisticRegression\n",
    "\n",
    "model = LogisticRegression()\n",
    "\n",
    "model.fit(X_train, y_train)"
   ]
  },
  {
   "cell_type": "code",
   "execution_count": 2,
   "id": "611dc820",
   "metadata": {},
   "outputs": [
    {
     "name": "stdout",
     "output_type": "stream",
     "text": [
      "\n",
      "Accuracy: 84.31\n",
      "\n",
      "\n",
      "Precision: 64.03\n",
      "\n",
      "\n",
      "Recall: 57.74\n",
      "\n",
      "\n",
      "F1: 60.72\n",
      "\n"
     ]
    }
   ],
   "source": [
    "y_pred = model.predict(X_test)\n",
    "\n",
    "from sklearn.metrics import accuracy_score, precision_score, recall_score,f1_score\n",
    "\n",
    "print('\\nAccuracy: {:.2f}\\n'.format(100 * accuracy_score(y_test, y_pred)))\n",
    "\n",
    "print('\\nPrecision: {:.2f}\\n'.format(100 * precision_score(y_test, y_pred)))\n",
    "\n",
    "print('\\nRecall: {:.2f}\\n'.format(100 * recall_score(y_test, y_pred)))\n",
    "\n",
    "print('\\nF1: {:.2f}\\n'.format(100 * f1_score(y_test, y_pred)))"
   ]
  },
  {
   "cell_type": "code",
   "execution_count": 3,
   "id": "00d3ef20",
   "metadata": {},
   "outputs": [
    {
     "name": "stdout",
     "output_type": "stream",
     "text": [
      "Possible Churn\n"
     ]
    }
   ],
   "source": [
    "age = 20\n",
    "\n",
    "married = 0\n",
    "\n",
    "cust_years = 3\n",
    "\n",
    "churned_contacts = 4\n",
    "\n",
    "example = [[age, married, cust_years, churned_contacts]]\n",
    "\n",
    "customer_info = pd.DataFrame(example, columns=['Age', 'Married', 'Cust_years', 'Churned_contacts'])\n",
    "\n",
    "pred = model.predict(customer_info)\n",
    "if pred == 1:\n",
    "    print(\"Possible Churn\")\n",
    "else:\n",
    "    print(\"Not Churn\")"
   ]
  },
  {
   "cell_type": "code",
   "execution_count": 4,
   "id": "e7db45c3",
   "metadata": {},
   "outputs": [
    {
     "name": "stdout",
     "output_type": "stream",
     "text": [
      "[[0.12901811 0.87098189]]\n"
     ]
    }
   ],
   "source": [
    "pred_proba = model.predict_proba(customer_info)\n",
    "print(pred_proba)"
   ]
  }
 ],
 "metadata": {
  "kernelspec": {
   "display_name": "Python 3",
   "language": "python",
   "name": "python3"
  },
  "language_info": {
   "codemirror_mode": {
    "name": "ipython",
    "version": 3
   },
   "file_extension": ".py",
   "mimetype": "text/x-python",
   "name": "python",
   "nbconvert_exporter": "python",
   "pygments_lexer": "ipython3",
   "version": "3.7.4"
  }
 },
 "nbformat": 4,
 "nbformat_minor": 5
}
