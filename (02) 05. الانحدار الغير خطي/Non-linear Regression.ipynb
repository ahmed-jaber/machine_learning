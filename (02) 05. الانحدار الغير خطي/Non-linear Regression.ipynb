{
 "cells": [
  {
   "cell_type": "code",
   "execution_count": 1,
   "id": "0f6d00fd",
   "metadata": {},
   "outputs": [
    {
     "name": "stdout",
     "output_type": "stream",
     "text": [
      "Intercept: 115.99\n",
      "Coefficients: 1\n"
     ]
    }
   ],
   "source": [
    "import pandas as pd\n",
    "\n",
    "from sklearn.linear_model import LinearRegression\n",
    "\n",
    "df = pd.read_csv(\"cars.csv\")\n",
    "\n",
    "X = df[['Weeks']]\n",
    "\n",
    "y = df['Total']\n",
    "\n",
    "model = LinearRegression()\n",
    "\n",
    "model.fit(X, y)\n",
    "\n",
    "print('Intercept:', round(model.intercept_, 2))\n",
    "print('Coefficients:', round(model.coef_[0]))"
   ]
  },
  {
   "cell_type": "code",
   "execution_count": 3,
   "id": "9857d4b0",
   "metadata": {},
   "outputs": [
    {
     "name": "stdout",
     "output_type": "stream",
     "text": [
      "MSE : 1915.7821203188573\n",
      "RMSE : 43.76964839153791\n",
      "MAE : 37.40842605663041\n"
     ]
    }
   ],
   "source": [
    "y_pred = model.predict(X)\n",
    "\n",
    "from sklearn.metrics import mean_squared_error\n",
    "from sklearn.metrics import mean_absolute_error\n",
    "\n",
    "from math import sqrt\n",
    "\n",
    "print ('MSE :', mean_squared_error(y_pred, y))\n",
    "print ('RMSE :', sqrt(mean_squared_error(y_pred, y)))\n",
    "print ('MAE :', mean_absolute_error(y_pred, y))"
   ]
  },
  {
   "cell_type": "code",
   "execution_count": 4,
   "id": "a3739c90",
   "metadata": {},
   "outputs": [
    {
     "data": {
      "image/png": "[encoded data removed]",
      "text/plain": [
       "<Figure size 432x288 with 1 Axes>"
      ]
     },
     "metadata": {
      "needs_background": "light"
     },
     "output_type": "display_data"
    }
   ],
   "source": [
    "df['prediction'] = model.predict(X)\n",
    "\n",
    "import matplotlib.pyplot as plt\n",
    "\n",
    "xpoints = df['Weeks']\n",
    "ypoints = df['Total']\n",
    "ypredpoints = df['prediction']\n",
    "\n",
    "plt.scatter(xpoints, ypoints)\n",
    "plt.plot(xpoints, ypredpoints, color='red')\n",
    "\n",
    "plt.show()"
   ]
  },
  {
   "cell_type": "code",
   "execution_count": 5,
   "id": "e2d23be3",
   "metadata": {},
   "outputs": [
    {
     "name": "stdout",
     "output_type": "stream",
     "text": [
      "[[4.00000e+00 1.60000e+01]\n",
      " [2.00000e+01 4.00000e+02]\n",
      " [5.20000e+01 2.70400e+03]\n",
      " [5.60000e+01 3.13600e+03]\n",
      " [7.20000e+01 5.18400e+03]\n",
      " [8.00000e+01 6.40000e+03]\n",
      " [1.68000e+02 2.82240e+04]\n",
      " [2.00000e+02 4.00000e+04]\n",
      " [2.28000e+02 5.19840e+04]\n",
      " [2.96000e+02 8.76160e+04]\n",
      " [3.52000e+02 1.23904e+05]\n",
      " [3.92000e+02 1.53664e+05]\n",
      " [4.28000e+02 1.83184e+05]\n",
      " [4.44000e+02 1.97136e+05]\n",
      " [5.00000e+02 2.50000e+05]]\n"
     ]
    }
   ],
   "source": [
    "from sklearn.preprocessing import PolynomialFeatures\n",
    "\n",
    "polynomial = PolynomialFeatures(degree=2, include_bias=False)\n",
    "\n",
    "XNew = polynomial.fit_transform(X)\n",
    "\n",
    "print(XNew)"
   ]
  },
  {
   "cell_type": "code",
   "execution_count": 6,
   "id": "daf328c0",
   "metadata": {},
   "outputs": [
    {
     "name": "stdout",
     "output_type": "stream",
     "text": [
      "Intercept: 65.98710740550425\n",
      "Coefficients: [ 1.33308721 -0.00166673]\n"
     ]
    }
   ],
   "source": [
    "model2 = LinearRegression()\n",
    "\n",
    "model2.fit(XNew, y)\n",
    "\n",
    "print('Intercept:', model2.intercept_)\n",
    "print('Coefficients:', model2.coef_)"
   ]
  },
  {
   "cell_type": "code",
   "execution_count": 7,
   "id": "1736ada1",
   "metadata": {},
   "outputs": [
    {
     "name": "stdout",
     "output_type": "stream",
     "text": [
      "MSE : 812.2825725792529\n",
      "RMSE : 28.500571443029926\n",
      "MAE : 24.62724256032612\n"
     ]
    }
   ],
   "source": [
    "y_pred2 = model2.predict(XNew)\n",
    "\n",
    "print ('MSE :', mean_squared_error(y_pred2, y))\n",
    "print ('RMSE :', sqrt(mean_squared_error(y_pred2, y)))\n",
    "print ('MAE :', mean_absolute_error(y_pred2, y))"
   ]
  },
  {
   "cell_type": "code",
   "execution_count": 9,
   "id": "69d60add",
   "metadata": {},
   "outputs": [
    {
     "name": "stdout",
     "output_type": "stream",
     "text": [
      "    Weeks  Total  prediction  prediction2\n",
      "0       4     88  118.120194    71.292788\n",
      "1      20     62  126.621170    91.982158\n",
      "2      52    118  143.623121   130.800793\n",
      "3      56    149  145.748365   135.413113\n",
      "4      72    193  154.249341   153.329037\n",
      "5      80    167  158.499829   161.966986\n",
      "6     168    192  205.255195   242.903857\n",
      "7     200    229  222.257146   265.935188\n",
      "8     228    319  237.133854   283.287489\n",
      "9     296    311  273.263000   314.548352\n",
      "10    352    366  303.016415   328.718791\n",
      "11    392    365  324.268854   332.440274\n",
      "12    428    300  343.396050   331.229425\n",
      "13    444    310  351.897025   329.304547\n",
      "14    500    320  381.650440   315.847202\n"
     ]
    },
    {
     "data": {
      "image/png": "[encoded data removed]",
      "text/plain": [
       "<Figure size 432x288 with 1 Axes>"
      ]
     },
     "metadata": {
      "needs_background": "light"
     },
     "output_type": "display_data"
    }
   ],
   "source": [
    "df['prediction2'] = model2.predict(XNew)\n",
    "print(df)\n",
    "\n",
    "xpoints = df['Weeks']\n",
    "ypoints = df['Total']\n",
    "ypredpoints2 = df['prediction2']\n",
    "\n",
    "plt.plot(xpoints, ypredpoints2, color='red')\n",
    "plt.scatter(xpoints, ypoints)\n",
    "plt.show()"
   ]
  },
  {
   "cell_type": "code",
   "execution_count": 10,
   "id": "494e6c4f",
   "metadata": {},
   "outputs": [
    {
     "name": "stdout",
     "output_type": "stream",
     "text": [
      "[312.34406067]\n"
     ]
    }
   ],
   "source": [
    "weeks = [[510]]\n",
    "\n",
    "weeksNew = polynomial.fit_transform(weeks)\n",
    "\n",
    "ypred = model2.predict(weeksNew)\n",
    "print(ypred)"
   ]
  },
  {
   "cell_type": "code",
   "execution_count": 11,
   "id": "d0bc69c6",
   "metadata": {},
   "outputs": [
    {
     "name": "stdout",
     "output_type": "stream",
     "text": [
      "312.34406067259295\n"
     ]
    }
   ],
   "source": [
    "ypred = model2.intercept_ + model2.coef_[0] * weeks[0][0] + model2.coef_[1] * weeks[0][0] * weeks[0][0]\n",
    "print(ypred)"
   ]
  }
 ],
 "metadata": {
  "kernelspec": {
   "display_name": "Python 3",
   "language": "python",
   "name": "python3"
  },
  "language_info": {
   "codemirror_mode": {
    "name": "ipython",
    "version": 3
   },
   "file_extension": ".py",
   "mimetype": "text/x-python",
   "name": "python",
   "nbconvert_exporter": "python",
   "pygments_lexer": "ipython3",
   "version": "3.7.4"
  }
 },
 "nbformat": 4,
 "nbformat_minor": 5
}
