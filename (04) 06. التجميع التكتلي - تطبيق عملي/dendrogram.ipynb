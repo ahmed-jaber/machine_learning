{
 "cells": [
  {
   "cell_type": "code",
   "execution_count": 1,
   "id": "127da21c",
   "metadata": {},
   "outputs": [
    {
     "data": {
      "image/png": "[encoded data removed]",
      "text/plain": [
       "<Figure size 432x288 with 1 Axes>"
      ]
     },
     "metadata": {
      "needs_background": "light"
     },
     "output_type": "display_data"
    }
   ],
   "source": [
    "import matplotlib.pyplot as plt\n",
    "\n",
    "X = [[1,1],\n",
    "     [1.5,1.5],\n",
    "     [5,5],\n",
    "     [3,4],\n",
    "     [4,4],\n",
    "     [3,3.5]]\n",
    "\n",
    "X1 = [i[0] for i in X]\n",
    "X2 = [i[1] for i in X]\n",
    "plt.scatter(X1, X2)\n",
    "plt.show()"
   ]
  },
  {
   "cell_type": "code",
   "execution_count": 2,
   "id": "7e91bd32",
   "metadata": {},
   "outputs": [
    {
     "data": {
      "image/png": "[encoded data removed]",
      "text/plain": [
       "<Figure size 432x288 with 1 Axes>"
      ]
     },
     "metadata": {
      "needs_background": "light"
     },
     "output_type": "display_data"
    }
   ],
   "source": [
    "import matplotlib.pyplot as plt\n",
    "\n",
    "labels = ['A','B','C','D','E','F']\n",
    "\n",
    "X1 = [i[0] for i in X]\n",
    "X2 = [i[1] for i in X]\n",
    "plt.scatter(X1, X2)\n",
    "\n",
    "for i in range(len(labels)):\n",
    "    plt.annotate(\n",
    "        labels[i],\n",
    "        xy=(X1[i], X2[i]), \n",
    "        textcoords='offset points',\n",
    "        xytext=(-3, 3))\n",
    "plt.show()"
   ]
  },
  {
   "cell_type": "code",
   "execution_count": 3,
   "id": "40cdde42",
   "metadata": {},
   "outputs": [
    {
     "data": {
      "image/png": "[encoded data removed]",
      "text/plain": [
       "<Figure size 432x288 with 1 Axes>"
      ]
     },
     "metadata": {
      "needs_background": "light"
     },
     "output_type": "display_data"
    }
   ],
   "source": [
    "from scipy.cluster.hierarchy import dendrogram, linkage\n",
    "\n",
    "link = linkage(X, 'single')\n",
    "\n",
    "labels = ['A','B','C','D','E','F']\n",
    "\n",
    "dendrogram(link, labels=labels)\n",
    "plt.show()"
   ]
  },
  {
   "cell_type": "code",
   "execution_count": 4,
   "id": "9fcb010a",
   "metadata": {},
   "outputs": [
    {
     "name": "stdout",
     "output_type": "stream",
     "text": [
      "[1 1 0 0 0 0]\n"
     ]
    }
   ],
   "source": [
    "from sklearn.cluster import AgglomerativeClustering\n",
    "\n",
    "model = AgglomerativeClustering(n_clusters=2)\n",
    "\n",
    "model.fit(X)\n",
    "\n",
    "print(model.labels_)"
   ]
  },
  {
   "cell_type": "code",
   "execution_count": 5,
   "id": "35e093ba",
   "metadata": {},
   "outputs": [
    {
     "data": {
      "image/png": "[encoded data removed]",
      "text/plain": [
       "<Figure size 432x288 with 1 Axes>"
      ]
     },
     "metadata": {
      "needs_background": "light"
     },
     "output_type": "display_data"
    }
   ],
   "source": [
    "plt.scatter(X1, X2, c=model.labels_)\n",
    "\n",
    "for i in range(len(labels)):\n",
    "    plt.annotate(\n",
    "        labels[i],\n",
    "        xy=(X1[i], X2[i]), \n",
    "        textcoords='offset points',\n",
    "        xytext=(-3, 3))\n",
    "plt.show()"
   ]
  },
  {
   "cell_type": "code",
   "execution_count": 6,
   "id": "5242ad7f",
   "metadata": {},
   "outputs": [
    {
     "name": "stdout",
     "output_type": "stream",
     "text": [
      "For n_clusters = 2 The average silhouette_score is : 0.68\n",
      "For n_clusters = 3 The average silhouette_score is : 0.53\n",
      "For n_clusters = 4 The average silhouette_score is : 0.43\n",
      "For n_clusters = 5 The average silhouette_score is : 0.18\n"
     ]
    }
   ],
   "source": [
    "from sklearn.metrics import silhouette_score\n",
    "\n",
    "range_n_clusters = [2, 3, 4, 5]\n",
    "for n_clusters in range_n_clusters:\n",
    "    model = AgglomerativeClustering(n_clusters=n_clusters)\n",
    "    model.fit(X)\n",
    "    silhouette_avg = silhouette_score(X, model.labels_)\n",
    "    print(\n",
    "    \"For n_clusters =\",\n",
    "    n_clusters,\n",
    "    \"The average silhouette_score is :\",\n",
    "    round(silhouette_avg,2),\n",
    "    )"
   ]
  }
 ],
 "metadata": {
  "kernelspec": {
   "display_name": "Python 3",
   "language": "python",
   "name": "python3"
  },
  "language_info": {
   "codemirror_mode": {
    "name": "ipython",
    "version": 3
   },
   "file_extension": ".py",
   "mimetype": "text/x-python",
   "name": "python",
   "nbconvert_exporter": "python",
   "pygments_lexer": "ipython3",
   "version": "3.7.4"
  }
 },
 "nbformat": 4,
 "nbformat_minor": 5
}
