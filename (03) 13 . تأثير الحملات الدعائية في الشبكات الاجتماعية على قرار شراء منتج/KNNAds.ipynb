{
 "cells": [
  {
   "cell_type": "code",
   "execution_count": 1,
   "id": "80ad0e5e",
   "metadata": {},
   "outputs": [
    {
     "name": "stdout",
     "output_type": "stream",
     "text": [
      "[[ 1.02020406 -1.78179743 -1.49004624]\n",
      " [ 1.02020406 -0.25358736 -1.46068138]\n",
      " [-0.98019606 -1.11320552 -0.78528968]\n",
      " ...\n",
      " [-0.98019606  1.17910958 -1.46068138]\n",
      " [ 1.02020406 -0.15807423 -1.07893824]\n",
      " [-0.98019606  1.08359645 -0.99084367]]\n"
     ]
    }
   ],
   "source": [
    "import pandas as pd\n",
    "\n",
    "df = pd.read_csv('Social_Network_Ads.csv')\n",
    "\n",
    "X = df[['Gender','Age','EstimatedSalary']].copy()\n",
    "\n",
    "y = df['Purchased']\n",
    "\n",
    "from sklearn.preprocessing import LabelEncoder\n",
    "le = LabelEncoder()\n",
    "\n",
    "X['Gender'] = le.fit_transform(X['Gender'])\n",
    "\n",
    "from sklearn.preprocessing import StandardScaler\n",
    "\n",
    "sc = StandardScaler()\n",
    "\n",
    "X = sc.fit_transform(X)\n",
    "\n",
    "print(X)"
   ]
  },
  {
   "cell_type": "code",
   "execution_count": 3,
   "id": "28ab02d9",
   "metadata": {},
   "outputs": [
    {
     "name": "stdout",
     "output_type": "stream",
     "text": [
      "21\n"
     ]
    },
    {
     "data": {
      "text/plain": [
       "KNeighborsClassifier(n_neighbors=21)"
      ]
     },
     "execution_count": 3,
     "metadata": {},
     "output_type": "execute_result"
    }
   ],
   "source": [
    "import math\n",
    "from sklearn.model_selection import train_test_split\n",
    "from sklearn.neighbors import KNeighborsClassifier\n",
    "\n",
    "X_train, X_test, y_train, y_test = train_test_split(X, y)\n",
    "\n",
    "K = int(math.sqrt(len(X)))\n",
    "\n",
    "if K % 2 == 0:\n",
    "    K = K + 1\n",
    "print(K)\n",
    "\n",
    "model = KNeighborsClassifier(n_neighbors=K)\n",
    "\n",
    "model.fit(X_train, y_train)"
   ]
  },
  {
   "cell_type": "code",
   "execution_count": 4,
   "id": "be3fdb92",
   "metadata": {},
   "outputs": [
    {
     "name": "stdout",
     "output_type": "stream",
     "text": [
      "\n",
      "Accuracy: 89.00\n",
      "\n",
      "\n",
      "Precision: 85.00\n",
      "\n",
      "\n",
      "Recall: 87.18\n",
      "\n",
      "\n",
      "F1: 86.08\n",
      "\n"
     ]
    }
   ],
   "source": [
    "y_pred = model.predict(X_test)\n",
    "\n",
    "from sklearn.metrics import accuracy_score, precision_score, recall_score,f1_score\n",
    "\n",
    "print('\\nAccuracy: {:.2f}\\n'.format(100*accuracy_score(y_test, y_pred)))\n",
    "\n",
    "print('\\nPrecision: {:.2f}\\n'.format(100*precision_score(y_test, y_pred)))\n",
    "\n",
    "print('\\nRecall: {:.2f}\\n'.format(100*recall_score(y_test, y_pred)))\n",
    "\n",
    "print('\\nF1: {:.2f}\\n'.format(100*f1_score(y_test, y_pred)))"
   ]
  },
  {
   "cell_type": "code",
   "execution_count": 5,
   "id": "75d162bf",
   "metadata": {},
   "outputs": [
    {
     "name": "stdout",
     "output_type": "stream",
     "text": [
      "[0]\n"
     ]
    }
   ],
   "source": [
    "Gender = 'Female'\n",
    "Age = 26\n",
    "EstimatedSalary = 43000\n",
    "\n",
    "Gender = le.transform([Gender])\n",
    "\n",
    "Example = [[Gender, Age, EstimatedSalary]]\n",
    "Example_df = pd.DataFrame(Example, columns=['Gender','Age','EstimatedSalary'])\n",
    "Example = sc.transform(Example_df)\n",
    "\n",
    "pred = model.predict(Example)\n",
    "print(pred)"
   ]
  }
 ],
 "metadata": {
  "kernelspec": {
   "display_name": "Python 3",
   "language": "python",
   "name": "python3"
  },
  "language_info": {
   "codemirror_mode": {
    "name": "ipython",
    "version": 3
   },
   "file_extension": ".py",
   "mimetype": "text/x-python",
   "name": "python",
   "nbconvert_exporter": "python",
   "pygments_lexer": "ipython3",
   "version": "3.7.4"
  }
 },
 "nbformat": 4,
 "nbformat_minor": 5
}
