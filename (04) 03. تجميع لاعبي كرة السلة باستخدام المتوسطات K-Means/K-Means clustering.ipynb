{
 "cells": [
  {
   "cell_type": "code",
   "execution_count": 1,
   "id": "88d1b520",
   "metadata": {},
   "outputs": [
    {
     "data": {
      "image/png": "[encoded data removed]",
      "text/plain": [
       "<Figure size 432x288 with 1 Axes>"
      ]
     },
     "metadata": {
      "needs_background": "light"
     },
     "output_type": "display_data"
    }
   ],
   "source": [
    "import matplotlib.pyplot as plt\n",
    "\n",
    "X = [[5,3],\n",
    "[10,15],\n",
    "[15,12],\n",
    "[24,10],\n",
    "[30,45],\n",
    "[85,70],\n",
    "[71,80],\n",
    "[60,78],\n",
    "[55,52],\n",
    "[80,91]]\n",
    "\n",
    "X1 = [i[0] for i in X]\n",
    "X2 = [i[1] for i in X]\n",
    "plt.scatter(X1, X2)\n",
    "plt.show()"
   ]
  },
  {
   "cell_type": "code",
   "execution_count": 2,
   "id": "04b6e8ac",
   "metadata": {},
   "outputs": [
    {
     "name": "stdout",
     "output_type": "stream",
     "text": [
      "Centers:  [[70.2 74.2]\n",
      " [16.8 17. ]]\n",
      "Labels:  [1 1 1 1 1 0 0 0 0 0]\n"
     ]
    }
   ],
   "source": [
    "from sklearn.cluster import KMeans\n",
    "\n",
    "model = KMeans(n_clusters=2)\n",
    "\n",
    "model.fit(X)\n",
    "\n",
    "print(\"Centers: \", model.cluster_centers_)\n",
    "\n",
    "print(\"Labels: \", model.labels_)"
   ]
  },
  {
   "cell_type": "code",
   "execution_count": 6,
   "id": "dc3bbd7e",
   "metadata": {},
   "outputs": [
    {
     "name": "stdout",
     "output_type": "stream",
     "text": [
      "<class 'numpy.ndarray'>\n"
     ]
    },
    {
     "data": {
      "image/png": "[encoded data removed]",
      "text/plain": [
       "<Figure size 432x288 with 1 Axes>"
      ]
     },
     "metadata": {
      "needs_background": "light"
     },
     "output_type": "display_data"
    }
   ],
   "source": [
    "X1 = [i[0] for i in X]\n",
    "X2 = [i[1] for i in X]\n",
    "colors = model.labels_\n",
    "plt.scatter(X1, X2, c=colors)\n",
    "\n",
    "CX1 = model.cluster_centers_[:,0]\n",
    "CX2 = model.cluster_centers_[:,1]\n",
    "plt.scatter(CX1 ,CX2, color='green')\n",
    "print(type(model.cluster_centers_))"
   ]
  },
  {
   "cell_type": "code",
   "execution_count": 7,
   "id": "aa805fe3",
   "metadata": {},
   "outputs": [
    {
     "name": "stdout",
     "output_type": "stream",
     "text": [
      "0.66\n"
     ]
    }
   ],
   "source": [
    "from sklearn.metrics import silhouette_score\n",
    "\n",
    "silhouette_avg = silhouette_score(X, model.labels_)\n",
    "print(round(silhouette_avg,2))"
   ]
  },
  {
   "cell_type": "code",
   "execution_count": 8,
   "id": "68996aed",
   "metadata": {},
   "outputs": [
    {
     "data": {
      "text/plain": [
       "<matplotlib.collections.PathCollection at 0x218d301ca08>"
      ]
     },
     "execution_count": 8,
     "metadata": {},
     "output_type": "execute_result"
    },
    {
     "data": {
      "image/png": "[encoded data removed]",
      "text/plain": [
       "<Figure size 432x288 with 1 Axes>"
      ]
     },
     "metadata": {
      "needs_background": "light"
     },
     "output_type": "display_data"
    }
   ],
   "source": [
    "model = KMeans(n_clusters=3)\n",
    "model.fit(X)\n",
    "\n",
    "plt.scatter([i[0] for i in X], [i[1] for i in X], c=model.labels_, cmap='rainbow')\n",
    "plt.scatter(model.cluster_centers_[:,0] ,model.cluster_centers_[:,1], color='black')"
   ]
  },
  {
   "cell_type": "code",
   "execution_count": 9,
   "id": "b5bf5c95",
   "metadata": {},
   "outputs": [
    {
     "name": "stdout",
     "output_type": "stream",
     "text": [
      "0.58\n"
     ]
    }
   ],
   "source": [
    "silhouette_avg = silhouette_score(X, model.labels_)\n",
    "print(round(silhouette_avg,2))"
   ]
  },
  {
   "cell_type": "code",
   "execution_count": 10,
   "id": "44555f2a",
   "metadata": {},
   "outputs": [
    {
     "name": "stdout",
     "output_type": "stream",
     "text": [
      "For n_clusters = 2 The average silhouette_score is : 0.66\n",
      "For n_clusters = 3 The average silhouette_score is : 0.58\n",
      "For n_clusters = 4 The average silhouette_score is : 0.44\n",
      "For n_clusters = 5 The average silhouette_score is : 0.34\n"
     ]
    }
   ],
   "source": [
    "from sklearn.metrics import silhouette_score\n",
    "\n",
    "range_n_clusters = [2, 3, 4, 5]\n",
    "for n_clusters in range_n_clusters:\n",
    "\n",
    "    model = KMeans(n_clusters=n_clusters)\n",
    "    model.fit(X)\n",
    "    silhouette_avg = silhouette_score(X, model.labels_)\n",
    "    print(\n",
    "    \"For n_clusters =\",\n",
    "    n_clusters,\n",
    "    \"The average silhouette_score is :\",\n",
    "    round(silhouette_avg,2),\n",
    "    )"
   ]
  }
 ],
 "metadata": {
  "kernelspec": {
   "display_name": "Python 3",
   "language": "python",
   "name": "python3"
  },
  "language_info": {
   "codemirror_mode": {
    "name": "ipython",
    "version": 3
   },
   "file_extension": ".py",
   "mimetype": "text/x-python",
   "name": "python",
   "nbconvert_exporter": "python",
   "pygments_lexer": "ipython3",
   "version": "3.7.4"
  }
 },
 "nbformat": 4,
 "nbformat_minor": 5
}
