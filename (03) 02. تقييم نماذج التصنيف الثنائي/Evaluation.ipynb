{
 "cells": [
  {
   "cell_type": "code",
   "execution_count": 3,
   "id": "10fe1516",
   "metadata": {},
   "outputs": [
    {
     "name": "stdout",
     "output_type": "stream",
     "text": [
      "Confusion Matrix:\n",
      "[[3 1]\n",
      " [2 4]]\n",
      "TP :3.00\n",
      "TN :4.00\n",
      "FP :1.00\n",
      "FN :2.00\n",
      "Accuracy Score :70.00\n",
      "Precision Score :75.00\n",
      "Recall Score :60.00\n",
      "F1 Score :66.67\n",
      "Specificity :20.00\n"
     ]
    }
   ],
   "source": [
    "from sklearn.metrics import confusion_matrix\n",
    "\n",
    "from sklearn.metrics import accuracy_score\n",
    "\n",
    "from sklearn.metrics import precision_score\n",
    "\n",
    "from sklearn.metrics import recall_score\n",
    "\n",
    "from sklearn.metrics import f1_score\n",
    "\n",
    "actual = ['cat', 'dog', 'cat', 'dog', 'cat', 'cat', 'dog', 'cat', 'dog', 'dog']\n",
    "\n",
    "predicted = ['cat', 'cat', 'cat', 'dog', 'cat', 'cat', 'dog', 'dog', 'dog', 'cat']\n",
    "\n",
    "# حساب مصفوفة الارتباك\n",
    "cf_matrix = confusion_matrix(predicted, actual, labels = ['dog','cat'])\n",
    "print ('Confusion Matrix:')\n",
    "print (cf_matrix)\n",
    "\n",
    "TP = cf_matrix[0,0]\n",
    "TN = cf_matrix[1,1]\n",
    "FP = cf_matrix[0,1]\n",
    "FN = cf_matrix[1,0]\n",
    "print ('TP :{:.2f}'.format(TP))\n",
    "print ('TN :{:.2f}'.format(TN))\n",
    "print ('FP :{:.2f}'.format(FP))\n",
    "print ('FN :{:.2f}'.format(FN))\n",
    "\n",
    "print ('Accuracy Score :{:.2f}'.format(accuracy_score(actual, predicted)*100))\n",
    "print ('Precision Score :{:.2f}'.format(precision_score(actual, predicted, pos_label='dog')*100))\n",
    "print ('Recall Score :{:.2f}'.format(recall_score(actual, predicted, pos_label='dog')*100))\n",
    "print ('F1 Score :{:.2f}'.format(f1_score(actual, predicted, pos_label='dog')*100))\n",
    "print ('Specificity :{:.2f}'.format(FP/(FP+TN)*100))"
   ]
  },
  {
   "cell_type": "code",
   "execution_count": 4,
   "id": "1fb5aba9",
   "metadata": {},
   "outputs": [
    {
     "data": {
      "text/plain": [
       "<AxesSubplot:>"
      ]
     },
     "execution_count": 4,
     "metadata": {},
     "output_type": "execute_result"
    },
    {
     "data": {
      "image/png": "[encoded data removed]",
      "text/plain": [
       "<Figure size 432x288 with 2 Axes>"
      ]
     },
     "metadata": {
      "needs_background": "light"
     },
     "output_type": "display_data"
    }
   ],
   "source": [
    "import seaborn as sns\n",
    "sns.heatmap(cf_matrix, annot=True)"
   ]
  }
 ],
 "metadata": {
  "kernelspec": {
   "display_name": "Python 3",
   "language": "python",
   "name": "python3"
  },
  "language_info": {
   "codemirror_mode": {
    "name": "ipython",
    "version": 3
   },
   "file_extension": ".py",
   "mimetype": "text/x-python",
   "name": "python",
   "nbconvert_exporter": "python",
   "pygments_lexer": "ipython3",
   "version": "3.7.4"
  }
 },
 "nbformat": 4,
 "nbformat_minor": 5
}
