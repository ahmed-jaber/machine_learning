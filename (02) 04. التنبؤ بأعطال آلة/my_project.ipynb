{
 "cells": [
  {
   "cell_type": "code",
   "execution_count": 3,
   "metadata": {},
   "outputs": [
    {
     "name": "stdout",
     "output_type": "stream",
     "text": [
      "Intercept (b0): 7.43\n",
      "Coefficient (b1): 0.93\n"
     ]
    }
   ],
   "source": [
    "from sklearn.linear_model import LinearRegression\n",
    "\n",
    "Age = [[10],[20],[40],[50],[70],[90]]\n",
    "Failures = [15, 30, 40, 55, 75, 90]\n",
    "\n",
    "model=LinearRegression()\n",
    "\n",
    "model.fit(Age,Failures)\n",
    "\n",
    "b0=model.intercept_\n",
    "b1=model.coef_[0]\n",
    "\n",
    "print('Intercept (b0):', b0.round(2))\n",
    "print('Coefficient (b1):', b1.round(2))"
   ]
  },
  {
   "cell_type": "code",
   "execution_count": 7,
   "metadata": {},
   "outputs": [
    {
     "name": "stdout",
     "output_type": "stream",
     "text": [
      "[63.23529412]\n"
     ]
    }
   ],
   "source": [
    "age=[[60]]\n",
    "\n",
    "print(model.predict(age))"
   ]
  },
  {
   "cell_type": "code",
   "execution_count": 8,
   "metadata": {},
   "outputs": [
    {
     "name": "stdout",
     "output_type": "stream",
     "text": [
      "63.235294117647065\n"
     ]
    }
   ],
   "source": [
    "b0=model.intercept_\n",
    "b1=model.coef_[0]\n",
    "\n",
    "pred=b0+b1*age[0][0]\n",
    "print(pred)"
   ]
  },
  {
   "cell_type": "code",
   "execution_count": 13,
   "metadata": {},
   "outputs": [
    {
     "name": "stdout",
     "output_type": "stream",
     "text": [
      "[16.72794118 26.02941176 44.63235294 53.93382353 72.53676471 91.13970588]\n",
      "MSE = 8.118872549019606\n",
      "RMSE = 2.849363534022924\n",
      "MSE = 2.5000000000000004\n"
     ]
    }
   ],
   "source": [
    "y_pred=model.predict(Age)\n",
    "print(y_pred)\n",
    "\n",
    "from sklearn.metrics import mean_squared_error\n",
    "from sklearn.metrics import mean_absolute_error\n",
    "import math\n",
    "\n",
    "print('MSE =',mean_squared_error(y_pred,Failures))\n",
    "print('RMSE =',math.sqrt (mean_squared_error(y_pred,Failures)))\n",
    "print('MSE =',mean_absolute_error(y_pred,Failures))"
   ]
  }
 ],
 "metadata": {
  "kernelspec": {
   "display_name": "base",
   "language": "python",
   "name": "python3"
  },
  "language_info": {
   "codemirror_mode": {
    "name": "ipython",
    "version": 3
   },
   "file_extension": ".py",
   "mimetype": "text/x-python",
   "name": "python",
   "nbconvert_exporter": "python",
   "pygments_lexer": "ipython3",
   "version": "3.10.9"
  },
  "orig_nbformat": 4
 },
 "nbformat": 4,
 "nbformat_minor": 2
}
