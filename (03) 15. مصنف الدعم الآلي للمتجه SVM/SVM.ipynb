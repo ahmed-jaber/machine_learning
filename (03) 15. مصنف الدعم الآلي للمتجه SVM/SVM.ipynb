{
 "cells": [
  {
   "cell_type": "code",
   "execution_count": 1,
   "id": "2bb12616",
   "metadata": {},
   "outputs": [
    {
     "data": {
      "text/html": [
       "<div>\n",
       "<style scoped>\n",
       "    .dataframe tbody tr th:only-of-type {\n",
       "        vertical-align: middle;\n",
       "    }\n",
       "\n",
       "    .dataframe tbody tr th {\n",
       "        vertical-align: top;\n",
       "    }\n",
       "\n",
       "    .dataframe thead th {\n",
       "        text-align: right;\n",
       "    }\n",
       "</style>\n",
       "<table border=\"1\" class=\"dataframe\">\n",
       "  <thead>\n",
       "    <tr style=\"text-align: right;\">\n",
       "      <th></th>\n",
       "      <th>Weight</th>\n",
       "      <th>Size</th>\n",
       "      <th>Class</th>\n",
       "    </tr>\n",
       "  </thead>\n",
       "  <tbody>\n",
       "    <tr>\n",
       "      <th>0</th>\n",
       "      <td>69</td>\n",
       "      <td>4.39</td>\n",
       "      <td>orange</td>\n",
       "    </tr>\n",
       "    <tr>\n",
       "      <th>1</th>\n",
       "      <td>69</td>\n",
       "      <td>4.21</td>\n",
       "      <td>orange</td>\n",
       "    </tr>\n",
       "    <tr>\n",
       "      <th>2</th>\n",
       "      <td>65</td>\n",
       "      <td>4.09</td>\n",
       "      <td>orange</td>\n",
       "    </tr>\n",
       "    <tr>\n",
       "      <th>3</th>\n",
       "      <td>72</td>\n",
       "      <td>5.85</td>\n",
       "      <td>apple</td>\n",
       "    </tr>\n",
       "    <tr>\n",
       "      <th>4</th>\n",
       "      <td>67</td>\n",
       "      <td>4.70</td>\n",
       "      <td>orange</td>\n",
       "    </tr>\n",
       "  </tbody>\n",
       "</table>\n",
       "</div>"
      ],
      "text/plain": [
       "   Weight  Size   Class\n",
       "0      69  4.39  orange\n",
       "1      69  4.21  orange\n",
       "2      65  4.09  orange\n",
       "3      72  5.85   apple\n",
       "4      67  4.70  orange"
      ]
     },
     "execution_count": 1,
     "metadata": {},
     "output_type": "execute_result"
    }
   ],
   "source": [
    "import pandas as pd\n",
    "df = pd.read_csv('apples_and_oranges.csv')\n",
    "df.head()"
   ]
  },
  {
   "cell_type": "code",
   "execution_count": 2,
   "id": "3a1d967f",
   "metadata": {},
   "outputs": [
    {
     "data": {
      "text/plain": [
       "<matplotlib.collections.PathCollection at 0x2605d220748>"
      ]
     },
     "execution_count": 2,
     "metadata": {},
     "output_type": "execute_result"
    },
    {
     "data": {
      "image/png": "[encoded data removed]",
      "text/plain": [
       "<Figure size 432x288 with 1 Axes>"
      ]
     },
     "metadata": {
      "needs_background": "light"
     },
     "output_type": "display_data"
    }
   ],
   "source": [
    "import matplotlib.pyplot as plt\n",
    "\n",
    "plt.xlabel('Weight')\n",
    "plt.ylabel('Size')\n",
    "\n",
    "dforange = df.query(\"Class =='orange'\")\n",
    "\n",
    "dfapple = df.query(\"Class =='apple'\")\n",
    "\n",
    "plt.scatter(dforange['Weight'], dforange['Size'], color=\"red\", marker='*')\n",
    "plt.scatter(dfapple['Weight'], dfapple['Size'], color=\"blue\", marker='*')"
   ]
  },
  {
   "cell_type": "code",
   "execution_count": 3,
   "id": "1cda99cb",
   "metadata": {},
   "outputs": [
    {
     "data": {
      "text/plain": [
       "SVC(kernel='linear')"
      ]
     },
     "execution_count": 3,
     "metadata": {},
     "output_type": "execute_result"
    }
   ],
   "source": [
    "from sklearn.model_selection import train_test_split\n",
    "\n",
    "X = df[['Weight','Size']]\n",
    "y = df['Class']\n",
    "\n",
    "from sklearn.preprocessing import LabelEncoder\n",
    "le = LabelEncoder()\n",
    "\n",
    "y = le.fit_transform(y)\n",
    "\n",
    "X_train, X_test, y_train, y_test = train_test_split(X, y)\n",
    "\n",
    "from sklearn.svm import SVC\n",
    "\n",
    "model = SVC(kernel='linear')\n",
    "\n",
    "model.fit(X_train, y_train)"
   ]
  },
  {
   "cell_type": "code",
   "execution_count": 4,
   "id": "f88a1c14",
   "metadata": {},
   "outputs": [
    {
     "name": "stdout",
     "output_type": "stream",
     "text": [
      "\n",
      "Accuracy: 100.00\n",
      "\n",
      "\n",
      "Precision: 100.00\n",
      "\n",
      "\n",
      "Recall: 100.00\n",
      "\n",
      "\n",
      "F1: 100.00\n",
      "\n"
     ]
    }
   ],
   "source": [
    "y_pred=model.predict(X_test)\n",
    "\n",
    "from sklearn.metrics import accuracy_score, precision_score, recall_score,f1_score\n",
    "\n",
    "print('\\nAccuracy: {:.2f}\\n'.format(100*accuracy_score(y_test, y_pred)))\n",
    "\n",
    "print('\\nPrecision: {:.2f}\\n'.format(100*precision_score(y_test, y_pred)))\n",
    "\n",
    "print('\\nRecall: {:.2f}\\n'.format(100*recall_score(y_test, y_pred)))\n",
    "\n",
    "print('\\nF1: {:.2f}\\n'.format(100*f1_score(y_test, y_pred)))"
   ]
  },
  {
   "cell_type": "code",
   "execution_count": 5,
   "id": "505b4db7",
   "metadata": {},
   "outputs": [
    {
     "name": "stdout",
     "output_type": "stream",
     "text": [
      "[1]\n",
      "['orange']\n"
     ]
    }
   ],
   "source": [
    "Weight = 62\n",
    "Size = 3\n",
    "\n",
    "Example=[[Weight,Size]]\n",
    "\n",
    "Example_df = pd.DataFrame(Example, columns=['Weight','Size'])\n",
    "\n",
    "Classpred = model.predict(Example_df)\n",
    "print(Classpred)\n",
    "\n",
    "Classpred = le.inverse_transform(Classpred)\n",
    "print(Classpred)"
   ]
  },
  {
   "cell_type": "code",
   "execution_count": 6,
   "id": "f79d51d3",
   "metadata": {},
   "outputs": [
    {
     "name": "stdout",
     "output_type": "stream",
     "text": [
      "[0]\n",
      "['apple']\n"
     ]
    }
   ],
   "source": [
    "Weight = 74\n",
    "Size = 5.3\n",
    "Example=[[Weight,Size]]\n",
    "\n",
    "Example_df = pd.DataFrame(Example, columns=['Weight','Size'])\n",
    "\n",
    "Classpred = model.predict(Example_df)\n",
    "print(Classpred)\n",
    "\n",
    "Classpred = le.inverse_transform(Classpred)\n",
    "print(Classpred)"
   ]
  }
 ],
 "metadata": {
  "kernelspec": {
   "display_name": "Python 3",
   "language": "python",
   "name": "python3"
  },
  "language_info": {
   "codemirror_mode": {
    "name": "ipython",
    "version": 3
   },
   "file_extension": ".py",
   "mimetype": "text/x-python",
   "name": "python",
   "nbconvert_exporter": "python",
   "pygments_lexer": "ipython3",
   "version": "3.7.4"
  }
 },
 "nbformat": 4,
 "nbformat_minor": 5
}
