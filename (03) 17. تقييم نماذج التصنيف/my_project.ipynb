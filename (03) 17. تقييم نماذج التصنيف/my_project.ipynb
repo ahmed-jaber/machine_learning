{
 "cells": [
  {
   "cell_type": "code",
   "execution_count": 2,
   "metadata": {},
   "outputs": [
    {
     "name": "stdout",
     "output_type": "stream",
     "text": [
      "Accuracy Score on train :100.00\n",
      "Accuracy Score on test :0.00\n"
     ]
    }
   ],
   "source": [
    "from sklearn.tree import DecisionTreeClassifier\n",
    "\n",
    "X_train = [[0,0],[0,1],[1,0]]\n",
    "y_train = [0,1,1]\n",
    "X_test = [[1,1]]\n",
    "y_test = [0]\n",
    "\n",
    "model=DecisionTreeClassifier(criterion='entropy')\n",
    "\n",
    "model.fit(X_train,y_train)\n",
    "y_pred_train=model.predict(X_train)\n",
    "y_pred_test=model.predict(X_test)\n",
    "\n",
    "from sklearn.metrics import accuracy_score \n",
    "print ('Accuracy Score on train :{:.2f}'.format(accuracy_score(y_pred_train, y_train)*100))\n",
    "print ('Accuracy Score on test :{:.2f}'.format(accuracy_score(y_pred_test, y_test)*100))"
   ]
  },
  {
   "cell_type": "code",
   "execution_count": 3,
   "metadata": {},
   "outputs": [
    {
     "name": "stdout",
     "output_type": "stream",
     "text": [
      "Accuracy Score on train :66.67\n",
      "Accuracy Score on test :0.00\n"
     ]
    }
   ],
   "source": [
    "X_train = [[0,0],[0,0],[1,0]]\n",
    "y_train = [1,0,0]\n",
    "X_test = [[1,1]]\n",
    "y_test = [1]\n",
    "\n",
    "model=DecisionTreeClassifier(criterion='entropy')\n",
    "\n",
    "model.fit(X_train,y_train)\n",
    "y_pred_train=model.predict(X_train)\n",
    "y_pred_test=model.predict(X_test)\n",
    "\n",
    "from sklearn.metrics import accuracy_score \n",
    "print ('Accuracy Score on train :{:.2f}'.format(accuracy_score(y_pred_train, y_train)*100))\n",
    "print ('Accuracy Score on test :{:.2f}'.format(accuracy_score(y_pred_test, y_test)*100))\n"
   ]
  }
 ],
 "metadata": {
  "kernelspec": {
   "display_name": "base",
   "language": "python",
   "name": "python3"
  },
  "language_info": {
   "codemirror_mode": {
    "name": "ipython",
    "version": 3
   },
   "file_extension": ".py",
   "mimetype": "text/x-python",
   "name": "python",
   "nbconvert_exporter": "python",
   "pygments_lexer": "ipython3",
   "version": "3.10.9"
  },
  "orig_nbformat": 4
 },
 "nbformat": 4,
 "nbformat_minor": 2
}
