{
 "cells": [
  {
   "cell_type": "code",
   "execution_count": 7,
   "metadata": {},
   "outputs": [
    {
     "name": "stdout",
     "output_type": "stream",
     "text": [
      "(array([[1.        , 1.        , 1.41421356, 1.41421356, 1.41421356]]), array([[1, 7, 5, 4, 3]], dtype=int64))\n"
     ]
    }
   ],
   "source": [
    "import pandas as pd\n",
    "\n",
    "df=pd.read_csv('movies_recommendation_data.csv')\n",
    "\n",
    "X=df[['Biography','Drama','Thriller','Comedy','Crime','Mystery','History']]\n",
    "\n",
    "from sklearn.neighbors import NearestNeighbors\n",
    "\n",
    "model=NearestNeighbors()\n",
    "model.fit(X)\n",
    "Movie = [[0,1,0,0,0,1,1]]\n",
    "Movie_df=pd.DataFrame(Movie,columns=['Biography','Drama','Thriller','Comedy','Crime','Mystery','History'])\n",
    "\n",
    "neighbors=model.kneighbors(Movie_df,5)\n",
    "print(neighbors)"
   ]
  },
  {
   "cell_type": "code",
   "execution_count": 8,
   "metadata": {},
   "outputs": [
    {
     "name": "stdout",
     "output_type": "stream",
     "text": [
      "1             Ex Machina\n",
      "7    Travelling Salesman\n",
      "5                     21\n",
      "4           Forrest Gump\n",
      "3      Good Will Hunting\n",
      "Name: Movie Name, dtype: object\n"
     ]
    }
   ],
   "source": [
    "for index in neighbors[1]:\n",
    "    print(df['Movie Name'].iloc[index])"
   ]
  }
 ],
 "metadata": {
  "kernelspec": {
   "display_name": "base",
   "language": "python",
   "name": "python3"
  },
  "language_info": {
   "codemirror_mode": {
    "name": "ipython",
    "version": 3
   },
   "file_extension": ".py",
   "mimetype": "text/x-python",
   "name": "python",
   "nbconvert_exporter": "python",
   "pygments_lexer": "ipython3",
   "version": "3.10.9"
  },
  "orig_nbformat": 4
 },
 "nbformat": 4,
 "nbformat_minor": 2
}
