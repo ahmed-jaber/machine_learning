{
 "cells": [
  {
   "cell_type": "code",
   "execution_count": 27,
   "metadata": {},
   "outputs": [
    {
     "name": "stdout",
     "output_type": "stream",
     "text": [
      "+---------+\n",
      "|R: | : :G|\n",
      "| : | : : |\n",
      "| : : : : |\n",
      "|\u001b[43m \u001b[0m| : | : |\n",
      "|\u001b[35mY\u001b[0m| : |\u001b[34;1mB\u001b[0m: |\n",
      "+---------+\n",
      "\n",
      "\n"
     ]
    }
   ],
   "source": [
    "import gym\n",
    "\n",
    "env=gym.make('Taxi-v3',render_mode='ansi').env\n",
    "\n",
    "env.reset(seed=0)\n",
    "\n",
    "env=env.unwrapped\n",
    "\n",
    "arr=env.render()\n",
    "print(arr)"
   ]
  },
  {
   "cell_type": "code",
   "execution_count": 28,
   "metadata": {},
   "outputs": [
    {
     "name": "stdout",
     "output_type": "stream",
     "text": [
      "Action Space Discrete(6)\n",
      "State Space Discrete(500)\n"
     ]
    }
   ],
   "source": [
    "print('Action Space',env.action_space)\n",
    "print('State Space',env.observation_space)"
   ]
  },
  {
   "cell_type": "code",
   "execution_count": 29,
   "metadata": {},
   "outputs": [
    {
     "name": "stdout",
     "output_type": "stream",
     "text": [
      "State : 328\n",
      "+---------+\n",
      "|\u001b[35mR\u001b[0m: | : :G|\n",
      "| : | : : |\n",
      "| : : : : |\n",
      "| |\u001b[43m \u001b[0m: | : |\n",
      "|\u001b[34;1mY\u001b[0m| : |B: |\n",
      "+---------+\n",
      "\n",
      "\n"
     ]
    }
   ],
   "source": [
    "state=env.encode(3,1,2,0)\n",
    "print('State :',state)\n",
    "env.s=state\n",
    "arr=env.render()\n",
    "print(arr)"
   ]
  },
  {
   "cell_type": "code",
   "execution_count": 30,
   "metadata": {},
   "outputs": [
    {
     "data": {
      "text/plain": [
       "{0: [(1.0, 428, -1, False)],\n",
       " 1: [(1.0, 228, -1, False)],\n",
       " 2: [(1.0, 348, -1, False)],\n",
       " 3: [(1.0, 328, -1, False)],\n",
       " 4: [(1.0, 328, -10, False)],\n",
       " 5: [(1.0, 328, -10, False)]}"
      ]
     },
     "execution_count": 30,
     "metadata": {},
     "output_type": "execute_result"
    }
   ],
   "source": [
    "env.P[env.s]"
   ]
  },
  {
   "cell_type": "code",
   "execution_count": 31,
   "metadata": {},
   "outputs": [
    {
     "name": "stdout",
     "output_type": "stream",
     "text": [
      "Timesteps Taken: 621\n",
      "Penalties incurred: 198\n"
     ]
    }
   ],
   "source": [
    "state=env.encode(3,1,2,0)\n",
    "env.s=state\n",
    "\n",
    "epochs=0\n",
    "penalties=0\n",
    "\n",
    "frames=[]\n",
    "\n",
    "done=False\n",
    "\n",
    "while not done:\n",
    "    action=env.action_space.sample()\n",
    "\n",
    "    state,reward,done,_,_=env.step(action)\n",
    "\n",
    "    if reward == -10:\n",
    "        penalties+=1\n",
    "\n",
    "    frames.append({'state':state,'action':action,'reward':reward})\n",
    "    epochs+=1\n",
    "\n",
    "print('Timesteps Taken:',epochs)\n",
    "print('Penalties incurred:',penalties)"
   ]
  },
  {
   "cell_type": "code",
   "execution_count": 40,
   "metadata": {},
   "outputs": [],
   "source": [
    "from IPython.display import clear_output\n",
    "from time import sleep\n",
    "\n",
    "def print_frames(frames):\n",
    "    actions=['South','North','East','West','Pick-up','Drop-of']\n",
    "    for i ,frame in enumerate(frames):\n",
    "\n",
    "        env.s=frame['state']\n",
    "\n",
    "        clear_output(wait=True)\n",
    "\n",
    "        arr=env.render()\n",
    "        print(arr)\n",
    "\n",
    "        print(f'Timestep: {i+1}')\n",
    "        print(f'State: {frame[\"state\"]}')\n",
    "        print(f'Action: {frame[\"action\"]}')\n",
    "        print(f'Reward: {frame[\"reward\"]}')\n",
    "        sleep(0.1)\n",
    "\n",
    "\n"
   ]
  },
  {
   "cell_type": "code",
   "execution_count": 33,
   "metadata": {},
   "outputs": [
    {
     "name": "stdout",
     "output_type": "stream",
     "text": [
      "+---------+\n",
      "|\u001b[35m\u001b[34;1m\u001b[43mR\u001b[0m\u001b[0m\u001b[0m: | : :G|\n",
      "| : | : : |\n",
      "| : : : : |\n",
      "| | : | : |\n",
      "|Y| : |B: |\n",
      "+---------+\n",
      "  (Dropoff)\n",
      "\n",
      "Timestep: 621\n",
      "State: 0\n",
      "Action: 5\n",
      "Reward: 20\n"
     ]
    }
   ],
   "source": [
    "print_frames(frames)"
   ]
  },
  {
   "cell_type": "code",
   "execution_count": 34,
   "metadata": {},
   "outputs": [
    {
     "name": "stdout",
     "output_type": "stream",
     "text": [
      "Result after 100 episodes\n",
      "Average timesteps per episode 2902.85\n",
      "Average penalties per episode 940.06\n"
     ]
    }
   ],
   "source": [
    "episodes=100\n",
    "total_epochs=0\n",
    "total_penalties=0\n",
    "\n",
    "for _ in range(episodes):\n",
    "    state=env.reset()\n",
    "\n",
    "    penalties = 0\n",
    "    reward = 0\n",
    "    epochs = 0\n",
    "\n",
    "    done = False\n",
    "\n",
    "    while not done:\n",
    "        action=env.action_space.sample()\n",
    "\n",
    "        state,reward,done,_,_=env.step(action)\n",
    "\n",
    "        if reward == -10:\n",
    "            penalties+=1\n",
    "        epochs+=1\n",
    "\n",
    "    \n",
    "    total_epochs+=epochs\n",
    "    total_penalties+=penalties\n",
    "\n",
    "print(f'Result after {episodes} episodes')\n",
    "print(f'Average timesteps per episode {total_epochs/episodes}')\n",
    "print(f'Average penalties per episode {total_penalties/episodes}')\n"
   ]
  },
  {
   "cell_type": "code",
   "execution_count": 35,
   "metadata": {},
   "outputs": [
    {
     "name": "stdout",
     "output_type": "stream",
     "text": [
      "500 6\n"
     ]
    },
    {
     "data": {
      "text/plain": [
       "array([[0., 0., 0., 0., 0., 0.],\n",
       "       [0., 0., 0., 0., 0., 0.],\n",
       "       [0., 0., 0., 0., 0., 0.],\n",
       "       ...,\n",
       "       [0., 0., 0., 0., 0., 0.],\n",
       "       [0., 0., 0., 0., 0., 0.],\n",
       "       [0., 0., 0., 0., 0., 0.]])"
      ]
     },
     "execution_count": 35,
     "metadata": {},
     "output_type": "execute_result"
    }
   ],
   "source": [
    "import numpy as np\n",
    "\n",
    "states=env.observation_space.n\n",
    "action=env.action_space.n\n",
    "\n",
    "print(states,action)\n",
    "\n",
    "q_table=np.zeros([states,action])\n",
    "q_table"
   ]
  },
  {
   "cell_type": "code",
   "execution_count": 36,
   "metadata": {},
   "outputs": [
    {
     "name": "stdout",
     "output_type": "stream",
     "text": [
      "Finished\n"
     ]
    }
   ],
   "source": [
    "alpha=0.4\n",
    "gamma=0.6\n",
    "\n",
    "episodes=100000\n",
    "\n",
    "for i in range(episodes):\n",
    "    state=env.reset()[0]\n",
    "\n",
    "    epochs=0\n",
    "    penalties=0\n",
    "\n",
    "    done=False\n",
    "\n",
    "    while not done:\n",
    "        action=np.argmax(q_table[state])\n",
    "\n",
    "        old_value=q_table[state,action]\n",
    "\n",
    "        next_state, reward, done, _ ,_  = env.step(action)\n",
    "        next_state=next_state\n",
    "\n",
    "        next_max=np.max(q_table[next_state])\n",
    "\n",
    "        new_value=(1-alpha)*old_value+alpha*(reward+gamma*next_max)\n",
    "\n",
    "        q_table[state,action]=new_value\n",
    "\n",
    "        state=next_state\n",
    "\n",
    "print('Finished')\n",
    "\n",
    "\n"
   ]
  },
  {
   "cell_type": "code",
   "execution_count": 37,
   "metadata": {},
   "outputs": [
    {
     "data": {
      "text/plain": [
       "array([[ 0.        ,  0.        ,  0.        ,  0.        ,  0.        ,\n",
       "         0.        ],\n",
       "       [-2.36974852, -2.37097084, -2.3605998 , -2.37097084, -2.27325184,\n",
       "        -4.        ],\n",
       "       [-1.87324883, -1.88031027, -1.90414301, -1.88031027, -0.7504    ,\n",
       "        -4.        ],\n",
       "       ...,\n",
       "       [-1.62175492, -1.22197334, -1.62175492, -1.53640554, -4.        ,\n",
       "        -4.        ],\n",
       "       [-2.13270742, -2.14259971, -2.13270742, -2.1410795 , -4.        ,\n",
       "        -4.        ],\n",
       "       [-0.736     , -0.736     , -0.736     ,  1.28      , -4.        ,\n",
       "        -4.        ]])"
      ]
     },
     "execution_count": 37,
     "metadata": {},
     "output_type": "execute_result"
    }
   ],
   "source": [
    "q_table"
   ]
  },
  {
   "cell_type": "code",
   "execution_count": 38,
   "metadata": {},
   "outputs": [
    {
     "name": "stdout",
     "output_type": "stream",
     "text": [
      "Result after 100 episodes\n",
      "Average timesteps per episode 13.11\n",
      "Average penalties per episode 0.0\n"
     ]
    }
   ],
   "source": [
    "episodes=100\n",
    "\n",
    "total_epochs=0\n",
    "total_penalties=0\n",
    "\n",
    "for _ in range(episodes):\n",
    "    state=env.reset()[0]\n",
    "\n",
    "    penalties=0\n",
    "    epochs=0\n",
    "    reward=0\n",
    "\n",
    "    done=False\n",
    "\n",
    "    while not done:\n",
    "        action=np.argmax(q_table[state])\n",
    "\n",
    "        state,reward,done,_,_=env.step(action)\n",
    "\n",
    "        if reward == -10:\n",
    "            penalties+=1\n",
    "        epochs+=1\n",
    "\n",
    "    \n",
    "    total_epochs+=epochs\n",
    "    total_penalties+=penalties\n",
    "\n",
    "print(f'Result after {episodes} episodes')\n",
    "print(f'Average timesteps per episode {total_epochs/episodes}')\n",
    "print(f'Average penalties per episode {total_penalties/episodes}')\n"
   ]
  },
  {
   "cell_type": "code",
   "execution_count": 41,
   "metadata": {},
   "outputs": [
    {
     "name": "stdout",
     "output_type": "stream",
     "text": [
      "+---------+\n",
      "|\u001b[35m\u001b[34;1m\u001b[43mR\u001b[0m\u001b[0m\u001b[0m: | : :G|\n",
      "| : | : : |\n",
      "| : : : : |\n",
      "| | : | : |\n",
      "|Y| : |B: |\n",
      "+---------+\n",
      "  (Dropoff)\n",
      "\n",
      "Timestep: 15\n",
      "State: 0\n",
      "Action: 5\n",
      "Reward: 20\n"
     ]
    }
   ],
   "source": [
    "state=env.encode(3,0,3,0)\n",
    "print('State:',state)\n",
    "env.s=state\n",
    "\n",
    "arr=env.render()\n",
    "print(arr)\n",
    "\n",
    "frames=[]\n",
    "\n",
    "done=False\n",
    "\n",
    "while not done:\n",
    "    action=np.argmax(q_table[state])\n",
    "\n",
    "    state,reward,done,_,_=env.step(action)\n",
    "\n",
    "    frames.append({'state':state,'action':action,'reward':reward})\n",
    "\n",
    "print_frames(frames)"
   ]
  }
 ],
 "metadata": {
  "kernelspec": {
   "display_name": "base",
   "language": "python",
   "name": "python3"
  },
  "language_info": {
   "codemirror_mode": {
    "name": "ipython",
    "version": 3
   },
   "file_extension": ".py",
   "mimetype": "text/x-python",
   "name": "python",
   "nbconvert_exporter": "python",
   "pygments_lexer": "ipython3",
   "version": "3.10.9"
  },
  "orig_nbformat": 4
 },
 "nbformat": 4,
 "nbformat_minor": 2
}
