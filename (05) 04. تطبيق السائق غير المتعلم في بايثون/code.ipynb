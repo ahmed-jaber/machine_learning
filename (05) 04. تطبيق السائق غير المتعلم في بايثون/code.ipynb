{
 "cells": [
  {
   "cell_type": "code",
   "execution_count": 13,
   "id": "f13090e9",
   "metadata": {},
   "outputs": [
    {
     "name": "stdout",
     "output_type": "stream",
     "text": [
      "+---------+\n",
      "|R: | : :G|\n",
      "| : | : : |\n",
      "| : : : : |\n",
      "|\u001b[43m \u001b[0m| : | : |\n",
      "|\u001b[35mY\u001b[0m| : |\u001b[34;1mB\u001b[0m: |\n",
      "+---------+\n",
      "\n",
      "\n"
     ]
    }
   ],
   "source": [
    "import gym\n",
    "\n",
    "env = gym.make(\"Taxi-v3\",render_mode=\"ansi\").env\n",
    "\n",
    "env.reset(seed=0)\n",
    "\n",
    "env = env.unwrapped\n",
    "\n",
    "arr = env.render()\n",
    "print(arr)"
   ]
  },
  {
   "cell_type": "code",
   "execution_count": 14,
   "id": "e9883026",
   "metadata": {},
   "outputs": [
    {
     "name": "stdout",
     "output_type": "stream",
     "text": [
      "Action Space  Discrete(6)\n",
      "State Space  Discrete(500)\n"
     ]
    }
   ],
   "source": [
    "print(\"Action Space \", env.action_space)\n",
    "print(\"State Space \", env.observation_space)"
   ]
  },
  {
   "cell_type": "code",
   "execution_count": 15,
   "id": "59ed5025",
   "metadata": {},
   "outputs": [
    {
     "name": "stdout",
     "output_type": "stream",
     "text": [
      "State: 328\n",
      "+---------+\n",
      "|\u001b[35mR\u001b[0m: | : :G|\n",
      "| : | : : |\n",
      "| : : : : |\n",
      "| |\u001b[43m \u001b[0m: | : |\n",
      "|\u001b[34;1mY\u001b[0m| : |B: |\n",
      "+---------+\n",
      "\n",
      "\n"
     ]
    }
   ],
   "source": [
    "state = env.encode(3, 1, 2, 0) \n",
    "print(\"State:\", state)\n",
    "\n",
    "env.s = state\n",
    "\n",
    "arr = env.render()\n",
    "print(arr)"
   ]
  },
  {
   "cell_type": "code",
   "execution_count": 16,
   "id": "d38da7d6",
   "metadata": {},
   "outputs": [
    {
     "data": {
      "text/plain": [
       "{0: [(1.0, 428, -1, False)],\n",
       " 1: [(1.0, 228, -1, False)],\n",
       " 2: [(1.0, 348, -1, False)],\n",
       " 3: [(1.0, 328, -1, False)],\n",
       " 4: [(1.0, 328, -10, False)],\n",
       " 5: [(1.0, 328, -10, False)]}"
      ]
     },
     "execution_count": 16,
     "metadata": {},
     "output_type": "execute_result"
    }
   ],
   "source": [
    "env.P[env.s]"
   ]
  },
  {
   "cell_type": "code",
   "execution_count": 17,
   "id": "4e7ec364",
   "metadata": {},
   "outputs": [
    {
     "name": "stdout",
     "output_type": "stream",
     "text": [
      "Timesteps taken: 11897\n",
      "Penalties incurred: 3838\n"
     ]
    }
   ],
   "source": [
    "state = env.encode(3, 1, 2, 0) \n",
    "\n",
    "env.s = state\n",
    "\n",
    "epochs = 0\n",
    "penalties= 0\n",
    "\n",
    "frames = []\n",
    "\n",
    "done = False\n",
    "\n",
    "while not done:\n",
    "    action = env.action_space.sample()\n",
    "    \n",
    "    state, reward, done, _,_ = env.step(action)\n",
    "    \n",
    "    if reward == -10:\n",
    "        penalties += 1\n",
    "          \n",
    "    frames.append({\n",
    "        'state': state,\n",
    "        'action': action,\n",
    "        'reward': reward\n",
    "        }\n",
    "    )\n",
    "\n",
    "    epochs += 1\n",
    "      \n",
    "print(\"Timesteps taken: {}\".format(epochs))\n",
    "print(\"Penalties incurred: {}\".format(penalties))"
   ]
  },
  {
   "cell_type": "code",
   "execution_count": 18,
   "id": "80790e17",
   "metadata": {},
   "outputs": [
    {
     "name": "stdout",
     "output_type": "stream",
     "text": [
      "+---------+\n",
      "|\u001b[35m\u001b[34;1m\u001b[43mR\u001b[0m\u001b[0m\u001b[0m: | : :G|\n",
      "| : | : : |\n",
      "| : : : : |\n",
      "| | : | : |\n",
      "|Y| : |B: |\n",
      "+---------+\n",
      "  (Dropoff)\n",
      "\n",
      "Timestep: 11897\n",
      "State: 0\n",
      "Action: Drop-of\n",
      "Reward: 20\n"
     ]
    }
   ],
   "source": [
    "from IPython.display import clear_output\n",
    "\n",
    "from time import sleep\n",
    "\n",
    "def print_frames(frames):\n",
    "    actions=['North','South','East','West','Pick-up','Drop-of']\n",
    "    for i, frame in enumerate(frames):\n",
    "        \n",
    "        env.s = frame['state']\n",
    "        \n",
    "        clear_output(wait=True)\n",
    "        \n",
    "        arr=env.render()\n",
    "        print(arr)\n",
    "        \n",
    "        print(f\"Timestep: {i + 1}\")\n",
    "        print(f\"State: {frame['state']}\")\n",
    "        print(f\"Action: {actions[frame['action']]}\")\n",
    "        print(f\"Reward: {frame['reward']}\")\n",
    "        sleep(0.1)\n",
    "\n",
    "print_frames(frames)"
   ]
  },
  {
   "cell_type": "code",
   "execution_count": 19,
   "id": "bf38d192",
   "metadata": {},
   "outputs": [
    {
     "name": "stdout",
     "output_type": "stream",
     "text": [
      "Results after 100 episodes:\n",
      "Average timesteps per episode: 2166.3\n",
      "Average penalties per episode: 697.77\n"
     ]
    }
   ],
   "source": [
    "episodes = 100\n",
    "\n",
    "total_epochs = 0\n",
    "\n",
    "total_penalties = 0\n",
    "\n",
    "for _ in range(episodes):\n",
    "    state = env.reset()\n",
    "    \n",
    "    penalties = 0\n",
    "    reward = 0\n",
    "    epochs = 0\n",
    "    done = False\n",
    "    \n",
    "    while not done:\n",
    "        action = env.action_space.sample()\n",
    "        \n",
    "        state, reward, done, _,_ = env.step(action)\n",
    "        \n",
    "        if reward == -10:\n",
    "            penalties += 1\n",
    "        \n",
    "        epochs += 1\n",
    "    \n",
    "    total_penalties += penalties\n",
    "    \n",
    "    total_epochs += epochs\n",
    "\n",
    "print(f\"Results after {episodes} episodes:\")\n",
    "\n",
    "print(f\"Average timesteps per episode: {(total_epochs / episodes)}\")\n",
    "\n",
    "print(f\"Average penalties per episode: {total_penalties / episodes}\")"
   ]
  },
  {
   "cell_type": "code",
   "execution_count": 20,
   "id": "8c230b11",
   "metadata": {},
   "outputs": [
    {
     "data": {
      "text/plain": [
       "array([[0., 0., 0., 0., 0., 0.],\n",
       "       [0., 0., 0., 0., 0., 0.],\n",
       "       [0., 0., 0., 0., 0., 0.],\n",
       "       ...,\n",
       "       [0., 0., 0., 0., 0., 0.],\n",
       "       [0., 0., 0., 0., 0., 0.],\n",
       "       [0., 0., 0., 0., 0., 0.]])"
      ]
     },
     "execution_count": 20,
     "metadata": {},
     "output_type": "execute_result"
    }
   ],
   "source": [
    "import numpy as np\n",
    "\n",
    "states = env.observation_space.n\n",
    "\n",
    "actions = env.action_space.n\n",
    "\n",
    "q_table = np.zeros([states, actions])\n",
    "q_table"
   ]
  },
  {
   "cell_type": "code",
   "execution_count": 21,
   "id": "22202d92",
   "metadata": {},
   "outputs": [
    {
     "name": "stdout",
     "output_type": "stream",
     "text": [
      "Training finished.\n",
      "\n"
     ]
    }
   ],
   "source": [
    "alpha = 0.4\n",
    "gamma = 0.6\n",
    "\n",
    "episodes = 100000\n",
    "\n",
    "for i in range(episodes):\n",
    "    state = env.reset()[0]\n",
    "    \n",
    "    epochs = 0\n",
    "    \n",
    "    penalties = 0\n",
    "    done = False\n",
    "    \n",
    "    while not done:\n",
    "        action = np.argmax(q_table[state])\n",
    "        \n",
    "        old_value = q_table[state, action]\n",
    "        \n",
    "        next_state, reward, done, _,_ = env.step(action)\n",
    "        next_state = next_state\n",
    "        \n",
    "        next_max = np.max(q_table[next_state])\n",
    "        \n",
    "        new_value = (1 - alpha) * old_value + alpha * (reward + gamma * next_max)\n",
    "        \n",
    "        q_table[state, action] = new_value\n",
    "        \n",
    "        state = next_state\n",
    "\n",
    "print(\"Training finished.\\n\")"
   ]
  },
  {
   "cell_type": "code",
   "execution_count": 22,
   "id": "10219fa6",
   "metadata": {},
   "outputs": [
    {
     "data": {
      "text/plain": [
       "array([[ 0.        ,  0.        ,  0.        ,  0.        ,  0.        ,\n",
       "         0.        ],\n",
       "       [-2.36599249, -2.34639386, -2.34906963, -2.34639386, -2.27325184,\n",
       "        -4.        ],\n",
       "       [-1.94597659, -1.88031027, -1.92209479, -1.88031027, -0.7504    ,\n",
       "        -4.        ],\n",
       "       ...,\n",
       "       [-1.62175492, -1.61422029, -1.62175492, -1.68422569, -4.        ,\n",
       "        -4.        ],\n",
       "       [-2.19147423, -2.21463105, -2.19147423, -2.24771875, -4.        ,\n",
       "        -4.        ],\n",
       "       [-0.736     , -0.736     , -0.736     ,  1.28      , -4.        ,\n",
       "        -4.        ]])"
      ]
     },
     "execution_count": 22,
     "metadata": {},
     "output_type": "execute_result"
    }
   ],
   "source": [
    "q_table"
   ]
  },
  {
   "cell_type": "code",
   "execution_count": 23,
   "id": "753633a6",
   "metadata": {},
   "outputs": [
    {
     "name": "stdout",
     "output_type": "stream",
     "text": [
      "Results after 100 episodes:\n",
      "Average timesteps per episode: 13.14\n",
      "Average penalties per episode: 0.0\n"
     ]
    }
   ],
   "source": [
    "episodes = 100\n",
    "\n",
    "total_epochs = 0\n",
    "\n",
    "total_penalties = 0\n",
    "\n",
    "for _ in range(episodes):\n",
    "    state = env.reset()[0]\n",
    "    \n",
    "    penalties = 0\n",
    "    reward = 0\n",
    "    epochs = 0\n",
    "    done = False\n",
    "    \n",
    "    while not done:\n",
    "        action = np.argmax(q_table[state])\n",
    "        \n",
    "        state, reward, done, _,_ = env.step(action)\n",
    "        \n",
    "        if reward == -10:\n",
    "            penalties += 1\n",
    "        \n",
    "        epochs += 1\n",
    "    \n",
    "    total_penalties += penalties\n",
    "    \n",
    "    total_epochs += epochs\n",
    "\n",
    "print(f\"Results after {episodes} episodes:\")\n",
    "\n",
    "print(f\"Average timesteps per episode: {(total_epochs / episodes)}\")\n",
    "\n",
    "print(f\"Average penalties per episode: {total_penalties / episodes}\")"
   ]
  },
  {
   "cell_type": "code",
   "execution_count": 24,
   "id": "68a80ea1",
   "metadata": {},
   "outputs": [
    {
     "name": "stdout",
     "output_type": "stream",
     "text": [
      "+---------+\n",
      "|\u001b[35m\u001b[34;1m\u001b[43mR\u001b[0m\u001b[0m\u001b[0m: | : :G|\n",
      "| : | : : |\n",
      "| : : : : |\n",
      "| | : | : |\n",
      "|Y| : |B: |\n",
      "+---------+\n",
      "  (Dropoff)\n",
      "\n",
      "Timestep: 10\n",
      "State: 0\n",
      "Action: Drop-of\n",
      "Reward: 20\n"
     ]
    }
   ],
   "source": [
    "state = env.encode(3, 1, 2, 0) \n",
    "print(\"State:\", state)\n",
    "\n",
    "env.s = state\n",
    "\n",
    "arr=env.render()\n",
    "print(arr)\n",
    "\n",
    "frames = []\n",
    "\n",
    "done = False\n",
    "\n",
    "while not done:\n",
    "    action = np.argmax(q_table[state])\n",
    "    \n",
    "    state, reward, done, _, _ = env.step(action)\n",
    "    \n",
    "    frames.append({\n",
    "        'state': state,\n",
    "        'action': action,\n",
    "        'reward': reward\n",
    "        }\n",
    "    )\n",
    "\n",
    "print_frames(frames)"
   ]
  }
 ],
 "metadata": {
  "kernelspec": {
   "display_name": "Python 3",
   "language": "python",
   "name": "python3"
  },
  "language_info": {
   "codemirror_mode": {
    "name": "ipython",
    "version": 3
   },
   "file_extension": ".py",
   "mimetype": "text/x-python",
   "name": "python",
   "nbconvert_exporter": "python",
   "pygments_lexer": "ipython3",
   "version": "3.7.4"
  }
 },
 "nbformat": 4,
 "nbformat_minor": 5
}
